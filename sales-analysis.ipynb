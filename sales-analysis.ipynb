{
 "cells": [
  {
   "cell_type": "code",
   "execution_count": 1,
   "id": "e2a6e419",
   "metadata": {
    "_cell_guid": "b1076dfc-b9ad-4769-8c92-a6c4dae69d19",
    "_uuid": "8f2839f25d086af736a60e9eeb907d3b93b6e0e5",
    "execution": {
     "iopub.execute_input": "2024-12-02T23:44:07.356835Z",
     "iopub.status.busy": "2024-12-02T23:44:07.355826Z",
     "iopub.status.idle": "2024-12-02T23:44:09.735835Z",
     "shell.execute_reply": "2024-12-02T23:44:09.734771Z"
    },
    "papermill": {
     "duration": 2.389491,
     "end_time": "2024-12-02T23:44:09.738323",
     "exception": false,
     "start_time": "2024-12-02T23:44:07.348832",
     "status": "completed"
    },
    "tags": []
   },
   "outputs": [],
   "source": [
    "import numpy as np\n",
    "import pandas as pd\n",
    "import matplotlib.pyplot as plt\n",
    "import seaborn as sns"
   ]
  },
  {
   "cell_type": "code",
   "execution_count": 2,
   "id": "dbed2f9d",
   "metadata": {
    "execution": {
     "iopub.execute_input": "2024-12-02T23:44:09.750914Z",
     "iopub.status.busy": "2024-12-02T23:44:09.749830Z",
     "iopub.status.idle": "2024-12-02T23:44:09.800127Z",
     "shell.execute_reply": "2024-12-02T23:44:09.799039Z"
    },
    "papermill": {
     "duration": 0.058432,
     "end_time": "2024-12-02T23:44:09.802162",
     "exception": false,
     "start_time": "2024-12-02T23:44:09.743730",
     "status": "completed"
    },
    "tags": []
   },
   "outputs": [
    {
     "data": {
      "text/html": [
       "<div>\n",
       "<style scoped>\n",
       "    .dataframe tbody tr th:only-of-type {\n",
       "        vertical-align: middle;\n",
       "    }\n",
       "\n",
       "    .dataframe tbody tr th {\n",
       "        vertical-align: top;\n",
       "    }\n",
       "\n",
       "    .dataframe thead th {\n",
       "        text-align: right;\n",
       "    }\n",
       "</style>\n",
       "<table border=\"1\" class=\"dataframe\">\n",
       "  <thead>\n",
       "    <tr style=\"text-align: right;\">\n",
       "      <th></th>\n",
       "      <th>Gender</th>\n",
       "      <th>Invoice ID</th>\n",
       "      <th>Branch</th>\n",
       "      <th>City</th>\n",
       "      <th>Customer type</th>\n",
       "      <th>Product line</th>\n",
       "      <th>Unit price</th>\n",
       "      <th>Quantity</th>\n",
       "      <th>Tax 5%</th>\n",
       "    </tr>\n",
       "  </thead>\n",
       "  <tbody>\n",
       "    <tr>\n",
       "      <th>0</th>\n",
       "      <td>Female</td>\n",
       "      <td>750-67-8428</td>\n",
       "      <td>A</td>\n",
       "      <td>Yangon</td>\n",
       "      <td>Member</td>\n",
       "      <td>Health and beauty</td>\n",
       "      <td>74.69</td>\n",
       "      <td>7</td>\n",
       "      <td>261.4150</td>\n",
       "    </tr>\n",
       "    <tr>\n",
       "      <th>1</th>\n",
       "      <td>Female</td>\n",
       "      <td>226-31-3081</td>\n",
       "      <td>C</td>\n",
       "      <td>Naypyitaw</td>\n",
       "      <td>Normal</td>\n",
       "      <td>Electronic accessories</td>\n",
       "      <td>15.28</td>\n",
       "      <td>5</td>\n",
       "      <td>3.8200</td>\n",
       "    </tr>\n",
       "    <tr>\n",
       "      <th>2</th>\n",
       "      <td>Female</td>\n",
       "      <td>355-53-5943</td>\n",
       "      <td>A</td>\n",
       "      <td>Yangon</td>\n",
       "      <td>Member</td>\n",
       "      <td>Electronic accessories</td>\n",
       "      <td>68.84</td>\n",
       "      <td>6</td>\n",
       "      <td>20.6520</td>\n",
       "    </tr>\n",
       "    <tr>\n",
       "      <th>3</th>\n",
       "      <td>Female</td>\n",
       "      <td>315-22-5665</td>\n",
       "      <td>C</td>\n",
       "      <td>Naypyitaw</td>\n",
       "      <td>Normal</td>\n",
       "      <td>Home and lifestyle</td>\n",
       "      <td>73.56</td>\n",
       "      <td>10</td>\n",
       "      <td>36.7800</td>\n",
       "    </tr>\n",
       "    <tr>\n",
       "      <th>4</th>\n",
       "      <td>Female</td>\n",
       "      <td>665-32-9167</td>\n",
       "      <td>A</td>\n",
       "      <td>Yangon</td>\n",
       "      <td>Member</td>\n",
       "      <td>Health and beauty</td>\n",
       "      <td>36.26</td>\n",
       "      <td>2</td>\n",
       "      <td>3.6260</td>\n",
       "    </tr>\n",
       "    <tr>\n",
       "      <th>...</th>\n",
       "      <td>...</td>\n",
       "      <td>...</td>\n",
       "      <td>...</td>\n",
       "      <td>...</td>\n",
       "      <td>...</td>\n",
       "      <td>...</td>\n",
       "      <td>...</td>\n",
       "      <td>...</td>\n",
       "      <td>...</td>\n",
       "    </tr>\n",
       "    <tr>\n",
       "      <th>995</th>\n",
       "      <td>Male</td>\n",
       "      <td>745-74-0715</td>\n",
       "      <td>A</td>\n",
       "      <td>Yangon</td>\n",
       "      <td>Normal</td>\n",
       "      <td>Electronic accessories</td>\n",
       "      <td>58.03</td>\n",
       "      <td>2</td>\n",
       "      <td>5.8030</td>\n",
       "    </tr>\n",
       "    <tr>\n",
       "      <th>996</th>\n",
       "      <td>Male</td>\n",
       "      <td>690-01-6631</td>\n",
       "      <td>B</td>\n",
       "      <td>Mandalay</td>\n",
       "      <td>Normal</td>\n",
       "      <td>Fashion accessories</td>\n",
       "      <td>17.49</td>\n",
       "      <td>10</td>\n",
       "      <td>8.7450</td>\n",
       "    </tr>\n",
       "    <tr>\n",
       "      <th>997</th>\n",
       "      <td>Male</td>\n",
       "      <td>233-67-5758</td>\n",
       "      <td>C</td>\n",
       "      <td>Naypyitaw</td>\n",
       "      <td>Normal</td>\n",
       "      <td>Health and beauty</td>\n",
       "      <td>40.35</td>\n",
       "      <td>1</td>\n",
       "      <td>2.0175</td>\n",
       "    </tr>\n",
       "    <tr>\n",
       "      <th>998</th>\n",
       "      <td>Male</td>\n",
       "      <td>727-02-1313</td>\n",
       "      <td>A</td>\n",
       "      <td>Yangon</td>\n",
       "      <td>Member</td>\n",
       "      <td>Food and beverages</td>\n",
       "      <td>31.84</td>\n",
       "      <td>1</td>\n",
       "      <td>1.5920</td>\n",
       "    </tr>\n",
       "    <tr>\n",
       "      <th>999</th>\n",
       "      <td>Male</td>\n",
       "      <td>347-56-2442</td>\n",
       "      <td>A</td>\n",
       "      <td>Yangon</td>\n",
       "      <td>Normal</td>\n",
       "      <td>Home and lifestyle</td>\n",
       "      <td>65.82</td>\n",
       "      <td>1</td>\n",
       "      <td>3.2910</td>\n",
       "    </tr>\n",
       "  </tbody>\n",
       "</table>\n",
       "<p>1000 rows × 9 columns</p>\n",
       "</div>"
      ],
      "text/plain": [
       "     Gender   Invoice ID Branch       City Customer type  \\\n",
       "0    Female  750-67-8428      A     Yangon        Member   \n",
       "1    Female  226-31-3081      C  Naypyitaw        Normal   \n",
       "2    Female  355-53-5943      A     Yangon        Member   \n",
       "3    Female  315-22-5665      C  Naypyitaw        Normal   \n",
       "4    Female  665-32-9167      A     Yangon        Member   \n",
       "..      ...          ...    ...        ...           ...   \n",
       "995    Male  745-74-0715      A     Yangon        Normal   \n",
       "996    Male  690-01-6631      B   Mandalay        Normal   \n",
       "997    Male  233-67-5758      C  Naypyitaw        Normal   \n",
       "998    Male  727-02-1313      A     Yangon        Member   \n",
       "999    Male  347-56-2442      A     Yangon        Normal   \n",
       "\n",
       "               Product line  Unit price  Quantity    Tax 5%  \n",
       "0         Health and beauty       74.69         7  261.4150  \n",
       "1    Electronic accessories       15.28         5    3.8200  \n",
       "2    Electronic accessories       68.84         6   20.6520  \n",
       "3        Home and lifestyle       73.56        10   36.7800  \n",
       "4         Health and beauty       36.26         2    3.6260  \n",
       "..                      ...         ...       ...       ...  \n",
       "995  Electronic accessories       58.03         2    5.8030  \n",
       "996     Fashion accessories       17.49        10    8.7450  \n",
       "997       Health and beauty       40.35         1    2.0175  \n",
       "998      Food and beverages       31.84         1    1.5920  \n",
       "999      Home and lifestyle       65.82         1    3.2910  \n",
       "\n",
       "[1000 rows x 9 columns]"
      ]
     },
     "execution_count": 2,
     "metadata": {},
     "output_type": "execute_result"
    }
   ],
   "source": [
    "sales_df = pd.read_csv('/kaggle/input/market-sales-data/supermarket_sales new.csv')\n",
    "sales_df"
   ]
  },
  {
   "cell_type": "code",
   "execution_count": 3,
   "id": "182dd3db",
   "metadata": {
    "execution": {
     "iopub.execute_input": "2024-12-02T23:44:09.814290Z",
     "iopub.status.busy": "2024-12-02T23:44:09.813649Z",
     "iopub.status.idle": "2024-12-02T23:44:09.820604Z",
     "shell.execute_reply": "2024-12-02T23:44:09.819540Z"
    },
    "papermill": {
     "duration": 0.015387,
     "end_time": "2024-12-02T23:44:09.822738",
     "exception": false,
     "start_time": "2024-12-02T23:44:09.807351",
     "status": "completed"
    },
    "tags": []
   },
   "outputs": [
    {
     "data": {
      "text/plain": [
       "(1000, 9)"
      ]
     },
     "execution_count": 3,
     "metadata": {},
     "output_type": "execute_result"
    }
   ],
   "source": [
    "sales_df.shape"
   ]
  },
  {
   "cell_type": "code",
   "execution_count": 4,
   "id": "aec94d01",
   "metadata": {
    "execution": {
     "iopub.execute_input": "2024-12-02T23:44:09.834507Z",
     "iopub.status.busy": "2024-12-02T23:44:09.834122Z",
     "iopub.status.idle": "2024-12-02T23:44:09.841077Z",
     "shell.execute_reply": "2024-12-02T23:44:09.840112Z"
    },
    "papermill": {
     "duration": 0.015248,
     "end_time": "2024-12-02T23:44:09.843045",
     "exception": false,
     "start_time": "2024-12-02T23:44:09.827797",
     "status": "completed"
    },
    "tags": []
   },
   "outputs": [
    {
     "data": {
      "text/plain": [
       "Index(['Gender', 'Invoice ID', 'Branch', 'City', 'Customer type',\n",
       "       'Product line', 'Unit price', 'Quantity', 'Tax 5%'],\n",
       "      dtype='object')"
      ]
     },
     "execution_count": 4,
     "metadata": {},
     "output_type": "execute_result"
    }
   ],
   "source": [
    "sales_df.columns"
   ]
  },
  {
   "cell_type": "code",
   "execution_count": 5,
   "id": "21899571",
   "metadata": {
    "execution": {
     "iopub.execute_input": "2024-12-02T23:44:09.855514Z",
     "iopub.status.busy": "2024-12-02T23:44:09.854706Z",
     "iopub.status.idle": "2024-12-02T23:44:09.859943Z",
     "shell.execute_reply": "2024-12-02T23:44:09.858848Z"
    },
    "papermill": {
     "duration": 0.013947,
     "end_time": "2024-12-02T23:44:09.862214",
     "exception": false,
     "start_time": "2024-12-02T23:44:09.848267",
     "status": "completed"
    },
    "tags": []
   },
   "outputs": [],
   "source": [
    "sales_df.columns = ['Gender', 'Invoice_ID', 'Branch', 'City', 'CustomerType',\n",
    "       'Product_Line', 'UnitPrice', 'Quantity', 'Tax_5%']"
   ]
  },
  {
   "cell_type": "code",
   "execution_count": 6,
   "id": "e1a7c804",
   "metadata": {
    "execution": {
     "iopub.execute_input": "2024-12-02T23:44:09.875127Z",
     "iopub.status.busy": "2024-12-02T23:44:09.874781Z",
     "iopub.status.idle": "2024-12-02T23:44:09.880984Z",
     "shell.execute_reply": "2024-12-02T23:44:09.880086Z"
    },
    "papermill": {
     "duration": 0.01572,
     "end_time": "2024-12-02T23:44:09.883112",
     "exception": false,
     "start_time": "2024-12-02T23:44:09.867392",
     "status": "completed"
    },
    "tags": []
   },
   "outputs": [
    {
     "data": {
      "text/plain": [
       "Index(['Gender', 'Invoice_ID', 'Branch', 'City', 'CustomerType',\n",
       "       'Product_Line', 'UnitPrice', 'Quantity', 'Tax_5%'],\n",
       "      dtype='object')"
      ]
     },
     "execution_count": 6,
     "metadata": {},
     "output_type": "execute_result"
    }
   ],
   "source": [
    "sales_df.columns"
   ]
  },
  {
   "cell_type": "code",
   "execution_count": 7,
   "id": "f0d40b33",
   "metadata": {
    "execution": {
     "iopub.execute_input": "2024-12-02T23:44:09.895227Z",
     "iopub.status.busy": "2024-12-02T23:44:09.894864Z",
     "iopub.status.idle": "2024-12-02T23:44:09.916430Z",
     "shell.execute_reply": "2024-12-02T23:44:09.915161Z"
    },
    "papermill": {
     "duration": 0.030361,
     "end_time": "2024-12-02T23:44:09.918782",
     "exception": false,
     "start_time": "2024-12-02T23:44:09.888421",
     "status": "completed"
    },
    "tags": []
   },
   "outputs": [
    {
     "name": "stdout",
     "output_type": "stream",
     "text": [
      "<class 'pandas.core.frame.DataFrame'>\n",
      "RangeIndex: 1000 entries, 0 to 999\n",
      "Data columns (total 9 columns):\n",
      " #   Column        Non-Null Count  Dtype  \n",
      "---  ------        --------------  -----  \n",
      " 0   Gender        1000 non-null   object \n",
      " 1   Invoice_ID    1000 non-null   object \n",
      " 2   Branch        1000 non-null   object \n",
      " 3   City          1000 non-null   object \n",
      " 4   CustomerType  1000 non-null   object \n",
      " 5   Product_Line  1000 non-null   object \n",
      " 6   UnitPrice     1000 non-null   float64\n",
      " 7   Quantity      1000 non-null   int64  \n",
      " 8   Tax_5%        1000 non-null   float64\n",
      "dtypes: float64(2), int64(1), object(6)\n",
      "memory usage: 70.4+ KB\n"
     ]
    }
   ],
   "source": [
    "sales_df.info()"
   ]
  },
  {
   "cell_type": "markdown",
   "id": "3cbe15c7",
   "metadata": {
    "papermill": {
     "duration": 0.005212,
     "end_time": "2024-12-02T23:44:09.930573",
     "exception": false,
     "start_time": "2024-12-02T23:44:09.925361",
     "status": "completed"
    },
    "tags": []
   },
   "source": [
    "## Data Cleaning"
   ]
  },
  {
   "cell_type": "code",
   "execution_count": 8,
   "id": "4f403810",
   "metadata": {
    "execution": {
     "iopub.execute_input": "2024-12-02T23:44:09.943185Z",
     "iopub.status.busy": "2024-12-02T23:44:09.942389Z",
     "iopub.status.idle": "2024-12-02T23:44:09.951906Z",
     "shell.execute_reply": "2024-12-02T23:44:09.950921Z"
    },
    "papermill": {
     "duration": 0.018163,
     "end_time": "2024-12-02T23:44:09.954073",
     "exception": false,
     "start_time": "2024-12-02T23:44:09.935910",
     "status": "completed"
    },
    "tags": []
   },
   "outputs": [
    {
     "data": {
      "text/plain": [
       "Gender            0\n",
       "Invoice_ID        0\n",
       "Branch            0\n",
       "City              0\n",
       "CustomerType      0\n",
       "Product_Line      0\n",
       "UnitPrice       0.0\n",
       "Quantity          0\n",
       "Tax_5%          0.0\n",
       "dtype: object"
      ]
     },
     "execution_count": 8,
     "metadata": {},
     "output_type": "execute_result"
    }
   ],
   "source": [
    "checking_nan = sales_df[sales_df.isna().any(axis=1)]\n",
    "checking_nan.sum()"
   ]
  },
  {
   "cell_type": "code",
   "execution_count": 9,
   "id": "76108838",
   "metadata": {
    "execution": {
     "iopub.execute_input": "2024-12-02T23:44:09.966446Z",
     "iopub.status.busy": "2024-12-02T23:44:09.966085Z",
     "iopub.status.idle": "2024-12-02T23:44:09.975343Z",
     "shell.execute_reply": "2024-12-02T23:44:09.974355Z"
    },
    "papermill": {
     "duration": 0.017804,
     "end_time": "2024-12-02T23:44:09.977317",
     "exception": false,
     "start_time": "2024-12-02T23:44:09.959513",
     "status": "completed"
    },
    "tags": []
   },
   "outputs": [
    {
     "data": {
      "text/plain": [
       "0"
      ]
     },
     "execution_count": 9,
     "metadata": {},
     "output_type": "execute_result"
    }
   ],
   "source": [
    "duplicates = sales_df.duplicated()\n",
    "duplicates.sum()"
   ]
  },
  {
   "cell_type": "code",
   "execution_count": 10,
   "id": "bb3a2897",
   "metadata": {
    "execution": {
     "iopub.execute_input": "2024-12-02T23:44:09.990073Z",
     "iopub.status.busy": "2024-12-02T23:44:09.989709Z",
     "iopub.status.idle": "2024-12-02T23:44:10.003525Z",
     "shell.execute_reply": "2024-12-02T23:44:10.002598Z"
    },
    "papermill": {
     "duration": 0.022762,
     "end_time": "2024-12-02T23:44:10.005657",
     "exception": false,
     "start_time": "2024-12-02T23:44:09.982895",
     "status": "completed"
    },
    "tags": []
   },
   "outputs": [
    {
     "data": {
      "text/html": [
       "<div>\n",
       "<style scoped>\n",
       "    .dataframe tbody tr th:only-of-type {\n",
       "        vertical-align: middle;\n",
       "    }\n",
       "\n",
       "    .dataframe tbody tr th {\n",
       "        vertical-align: top;\n",
       "    }\n",
       "\n",
       "    .dataframe thead th {\n",
       "        text-align: right;\n",
       "    }\n",
       "</style>\n",
       "<table border=\"1\" class=\"dataframe\">\n",
       "  <thead>\n",
       "    <tr style=\"text-align: right;\">\n",
       "      <th></th>\n",
       "      <th>Gender</th>\n",
       "      <th>Invoice_ID</th>\n",
       "      <th>Branch</th>\n",
       "      <th>City</th>\n",
       "      <th>CustomerType</th>\n",
       "      <th>Product_Line</th>\n",
       "      <th>UnitPrice</th>\n",
       "      <th>Quantity</th>\n",
       "      <th>Tax_5%</th>\n",
       "    </tr>\n",
       "  </thead>\n",
       "  <tbody>\n",
       "    <tr>\n",
       "      <th>0</th>\n",
       "      <td>Female</td>\n",
       "      <td>750-67-8428</td>\n",
       "      <td>A</td>\n",
       "      <td>Yangon</td>\n",
       "      <td>Member</td>\n",
       "      <td>Health and beauty</td>\n",
       "      <td>74.69</td>\n",
       "      <td>7</td>\n",
       "      <td>261.415</td>\n",
       "    </tr>\n",
       "    <tr>\n",
       "      <th>1</th>\n",
       "      <td>Female</td>\n",
       "      <td>226-31-3081</td>\n",
       "      <td>C</td>\n",
       "      <td>Naypyitaw</td>\n",
       "      <td>Normal</td>\n",
       "      <td>Electronic accessories</td>\n",
       "      <td>15.28</td>\n",
       "      <td>5</td>\n",
       "      <td>3.820</td>\n",
       "    </tr>\n",
       "    <tr>\n",
       "      <th>2</th>\n",
       "      <td>Female</td>\n",
       "      <td>355-53-5943</td>\n",
       "      <td>A</td>\n",
       "      <td>Yangon</td>\n",
       "      <td>Member</td>\n",
       "      <td>Electronic accessories</td>\n",
       "      <td>68.84</td>\n",
       "      <td>6</td>\n",
       "      <td>20.652</td>\n",
       "    </tr>\n",
       "    <tr>\n",
       "      <th>3</th>\n",
       "      <td>Female</td>\n",
       "      <td>315-22-5665</td>\n",
       "      <td>C</td>\n",
       "      <td>Naypyitaw</td>\n",
       "      <td>Normal</td>\n",
       "      <td>Home and lifestyle</td>\n",
       "      <td>73.56</td>\n",
       "      <td>10</td>\n",
       "      <td>36.780</td>\n",
       "    </tr>\n",
       "    <tr>\n",
       "      <th>4</th>\n",
       "      <td>Female</td>\n",
       "      <td>665-32-9167</td>\n",
       "      <td>A</td>\n",
       "      <td>Yangon</td>\n",
       "      <td>Member</td>\n",
       "      <td>Health and beauty</td>\n",
       "      <td>36.26</td>\n",
       "      <td>2</td>\n",
       "      <td>3.626</td>\n",
       "    </tr>\n",
       "  </tbody>\n",
       "</table>\n",
       "</div>"
      ],
      "text/plain": [
       "   Gender   Invoice_ID Branch       City CustomerType            Product_Line  \\\n",
       "0  Female  750-67-8428      A     Yangon       Member       Health and beauty   \n",
       "1  Female  226-31-3081      C  Naypyitaw       Normal  Electronic accessories   \n",
       "2  Female  355-53-5943      A     Yangon       Member  Electronic accessories   \n",
       "3  Female  315-22-5665      C  Naypyitaw       Normal      Home and lifestyle   \n",
       "4  Female  665-32-9167      A     Yangon       Member       Health and beauty   \n",
       "\n",
       "   UnitPrice  Quantity   Tax_5%  \n",
       "0      74.69         7  261.415  \n",
       "1      15.28         5    3.820  \n",
       "2      68.84         6   20.652  \n",
       "3      73.56        10   36.780  \n",
       "4      36.26         2    3.626  "
      ]
     },
     "execution_count": 10,
     "metadata": {},
     "output_type": "execute_result"
    }
   ],
   "source": [
    "sales_df.head()"
   ]
  },
  {
   "cell_type": "code",
   "execution_count": 11,
   "id": "c3be4eca",
   "metadata": {
    "execution": {
     "iopub.execute_input": "2024-12-02T23:44:10.018758Z",
     "iopub.status.busy": "2024-12-02T23:44:10.018378Z",
     "iopub.status.idle": "2024-12-02T23:44:10.032047Z",
     "shell.execute_reply": "2024-12-02T23:44:10.030972Z"
    },
    "papermill": {
     "duration": 0.023374,
     "end_time": "2024-12-02T23:44:10.034853",
     "exception": false,
     "start_time": "2024-12-02T23:44:10.011479",
     "status": "completed"
    },
    "tags": []
   },
   "outputs": [
    {
     "data": {
      "text/html": [
       "<div>\n",
       "<style scoped>\n",
       "    .dataframe tbody tr th:only-of-type {\n",
       "        vertical-align: middle;\n",
       "    }\n",
       "\n",
       "    .dataframe tbody tr th {\n",
       "        vertical-align: top;\n",
       "    }\n",
       "\n",
       "    .dataframe thead th {\n",
       "        text-align: right;\n",
       "    }\n",
       "</style>\n",
       "<table border=\"1\" class=\"dataframe\">\n",
       "  <thead>\n",
       "    <tr style=\"text-align: right;\">\n",
       "      <th></th>\n",
       "      <th>Gender</th>\n",
       "      <th>Invoice_ID</th>\n",
       "      <th>Branch</th>\n",
       "      <th>City</th>\n",
       "      <th>CustomerType</th>\n",
       "      <th>Product_Line</th>\n",
       "      <th>UnitPrice</th>\n",
       "      <th>Quantity</th>\n",
       "      <th>Tax_5%</th>\n",
       "    </tr>\n",
       "  </thead>\n",
       "  <tbody>\n",
       "    <tr>\n",
       "      <th>995</th>\n",
       "      <td>Male</td>\n",
       "      <td>745-74-0715</td>\n",
       "      <td>A</td>\n",
       "      <td>Yangon</td>\n",
       "      <td>Normal</td>\n",
       "      <td>Electronic accessories</td>\n",
       "      <td>58.03</td>\n",
       "      <td>2</td>\n",
       "      <td>5.8030</td>\n",
       "    </tr>\n",
       "    <tr>\n",
       "      <th>996</th>\n",
       "      <td>Male</td>\n",
       "      <td>690-01-6631</td>\n",
       "      <td>B</td>\n",
       "      <td>Mandalay</td>\n",
       "      <td>Normal</td>\n",
       "      <td>Fashion accessories</td>\n",
       "      <td>17.49</td>\n",
       "      <td>10</td>\n",
       "      <td>8.7450</td>\n",
       "    </tr>\n",
       "    <tr>\n",
       "      <th>997</th>\n",
       "      <td>Male</td>\n",
       "      <td>233-67-5758</td>\n",
       "      <td>C</td>\n",
       "      <td>Naypyitaw</td>\n",
       "      <td>Normal</td>\n",
       "      <td>Health and beauty</td>\n",
       "      <td>40.35</td>\n",
       "      <td>1</td>\n",
       "      <td>2.0175</td>\n",
       "    </tr>\n",
       "    <tr>\n",
       "      <th>998</th>\n",
       "      <td>Male</td>\n",
       "      <td>727-02-1313</td>\n",
       "      <td>A</td>\n",
       "      <td>Yangon</td>\n",
       "      <td>Member</td>\n",
       "      <td>Food and beverages</td>\n",
       "      <td>31.84</td>\n",
       "      <td>1</td>\n",
       "      <td>1.5920</td>\n",
       "    </tr>\n",
       "    <tr>\n",
       "      <th>999</th>\n",
       "      <td>Male</td>\n",
       "      <td>347-56-2442</td>\n",
       "      <td>A</td>\n",
       "      <td>Yangon</td>\n",
       "      <td>Normal</td>\n",
       "      <td>Home and lifestyle</td>\n",
       "      <td>65.82</td>\n",
       "      <td>1</td>\n",
       "      <td>3.2910</td>\n",
       "    </tr>\n",
       "  </tbody>\n",
       "</table>\n",
       "</div>"
      ],
      "text/plain": [
       "    Gender   Invoice_ID Branch       City CustomerType  \\\n",
       "995   Male  745-74-0715      A     Yangon       Normal   \n",
       "996   Male  690-01-6631      B   Mandalay       Normal   \n",
       "997   Male  233-67-5758      C  Naypyitaw       Normal   \n",
       "998   Male  727-02-1313      A     Yangon       Member   \n",
       "999   Male  347-56-2442      A     Yangon       Normal   \n",
       "\n",
       "               Product_Line  UnitPrice  Quantity  Tax_5%  \n",
       "995  Electronic accessories      58.03         2  5.8030  \n",
       "996     Fashion accessories      17.49        10  8.7450  \n",
       "997       Health and beauty      40.35         1  2.0175  \n",
       "998      Food and beverages      31.84         1  1.5920  \n",
       "999      Home and lifestyle      65.82         1  3.2910  "
      ]
     },
     "execution_count": 11,
     "metadata": {},
     "output_type": "execute_result"
    }
   ],
   "source": [
    "sales_df.tail()"
   ]
  },
  {
   "cell_type": "code",
   "execution_count": 12,
   "id": "8ce187c5",
   "metadata": {
    "execution": {
     "iopub.execute_input": "2024-12-02T23:44:10.049364Z",
     "iopub.status.busy": "2024-12-02T23:44:10.048472Z",
     "iopub.status.idle": "2024-12-02T23:44:10.068484Z",
     "shell.execute_reply": "2024-12-02T23:44:10.067335Z"
    },
    "papermill": {
     "duration": 0.029961,
     "end_time": "2024-12-02T23:44:10.071158",
     "exception": false,
     "start_time": "2024-12-02T23:44:10.041197",
     "status": "completed"
    },
    "tags": []
   },
   "outputs": [
    {
     "data": {
      "text/html": [
       "<div>\n",
       "<style scoped>\n",
       "    .dataframe tbody tr th:only-of-type {\n",
       "        vertical-align: middle;\n",
       "    }\n",
       "\n",
       "    .dataframe tbody tr th {\n",
       "        vertical-align: top;\n",
       "    }\n",
       "\n",
       "    .dataframe thead th {\n",
       "        text-align: right;\n",
       "    }\n",
       "</style>\n",
       "<table border=\"1\" class=\"dataframe\">\n",
       "  <thead>\n",
       "    <tr style=\"text-align: right;\">\n",
       "      <th></th>\n",
       "      <th>UnitPrice</th>\n",
       "      <th>Quantity</th>\n",
       "      <th>Tax_5%</th>\n",
       "    </tr>\n",
       "  </thead>\n",
       "  <tbody>\n",
       "    <tr>\n",
       "      <th>count</th>\n",
       "      <td>1000.000000</td>\n",
       "      <td>1000.000000</td>\n",
       "      <td>1000.000000</td>\n",
       "    </tr>\n",
       "    <tr>\n",
       "      <th>mean</th>\n",
       "      <td>55.672130</td>\n",
       "      <td>5.510000</td>\n",
       "      <td>43.911392</td>\n",
       "    </tr>\n",
       "    <tr>\n",
       "      <th>std</th>\n",
       "      <td>26.494628</td>\n",
       "      <td>2.923431</td>\n",
       "      <td>100.551612</td>\n",
       "    </tr>\n",
       "    <tr>\n",
       "      <th>min</th>\n",
       "      <td>10.080000</td>\n",
       "      <td>1.000000</td>\n",
       "      <td>1.066000</td>\n",
       "    </tr>\n",
       "    <tr>\n",
       "      <th>25%</th>\n",
       "      <td>32.875000</td>\n",
       "      <td>3.000000</td>\n",
       "      <td>6.222500</td>\n",
       "    </tr>\n",
       "    <tr>\n",
       "      <th>50%</th>\n",
       "      <td>55.230000</td>\n",
       "      <td>5.000000</td>\n",
       "      <td>12.404000</td>\n",
       "    </tr>\n",
       "    <tr>\n",
       "      <th>75%</th>\n",
       "      <td>77.935000</td>\n",
       "      <td>8.000000</td>\n",
       "      <td>27.226250</td>\n",
       "    </tr>\n",
       "    <tr>\n",
       "      <th>max</th>\n",
       "      <td>99.960000</td>\n",
       "      <td>10.000000</td>\n",
       "      <td>985.000000</td>\n",
       "    </tr>\n",
       "  </tbody>\n",
       "</table>\n",
       "</div>"
      ],
      "text/plain": [
       "         UnitPrice     Quantity       Tax_5%\n",
       "count  1000.000000  1000.000000  1000.000000\n",
       "mean     55.672130     5.510000    43.911392\n",
       "std      26.494628     2.923431   100.551612\n",
       "min      10.080000     1.000000     1.066000\n",
       "25%      32.875000     3.000000     6.222500\n",
       "50%      55.230000     5.000000    12.404000\n",
       "75%      77.935000     8.000000    27.226250\n",
       "max      99.960000    10.000000   985.000000"
      ]
     },
     "execution_count": 12,
     "metadata": {},
     "output_type": "execute_result"
    }
   ],
   "source": [
    "sales_df.describe() "
   ]
  },
  {
   "cell_type": "markdown",
   "id": "a2802781",
   "metadata": {
    "papermill": {
     "duration": 0.00612,
     "end_time": "2024-12-02T23:44:10.083612",
     "exception": false,
     "start_time": "2024-12-02T23:44:10.077492",
     "status": "completed"
    },
    "tags": []
   },
   "source": [
    "## Data Visualization"
   ]
  },
  {
   "cell_type": "code",
   "execution_count": 13,
   "id": "266b769d",
   "metadata": {
    "execution": {
     "iopub.execute_input": "2024-12-02T23:44:10.097755Z",
     "iopub.status.busy": "2024-12-02T23:44:10.097346Z",
     "iopub.status.idle": "2024-12-02T23:44:10.105718Z",
     "shell.execute_reply": "2024-12-02T23:44:10.104638Z"
    },
    "papermill": {
     "duration": 0.018353,
     "end_time": "2024-12-02T23:44:10.108313",
     "exception": false,
     "start_time": "2024-12-02T23:44:10.089960",
     "status": "completed"
    },
    "tags": []
   },
   "outputs": [
    {
     "data": {
      "text/plain": [
       "Branch\n",
       "A    340\n",
       "B    332\n",
       "C    328\n",
       "Name: count, dtype: int64"
      ]
     },
     "execution_count": 13,
     "metadata": {},
     "output_type": "execute_result"
    }
   ],
   "source": [
    "branch_count = sales_df.Branch.value_counts()\n",
    "branch_count"
   ]
  },
  {
   "cell_type": "code",
   "execution_count": 14,
   "id": "84fb9505",
   "metadata": {
    "execution": {
     "iopub.execute_input": "2024-12-02T23:44:10.122897Z",
     "iopub.status.busy": "2024-12-02T23:44:10.122509Z",
     "iopub.status.idle": "2024-12-02T23:44:10.350874Z",
     "shell.execute_reply": "2024-12-02T23:44:10.349771Z"
    },
    "papermill": {
     "duration": 0.237966,
     "end_time": "2024-12-02T23:44:10.353083",
     "exception": false,
     "start_time": "2024-12-02T23:44:10.115117",
     "status": "completed"
    },
    "tags": []
   },
   "outputs": [
    {
     "data": {
      "image/png": "[encoded data removed]",
      "text/plain": [
       "<Figure size 200x300 with 1 Axes>"
      ]
     },
     "metadata": {},
     "output_type": "display_data"
    }
   ],
   "source": [
    "plt.figure(figsize=(2,3))\n",
    "plt.xlabel(\"Branch\")\n",
    "plt.ylabel(\"Sales\")\n",
    "sns.barplot(x=branch_count.index, y=branch_count.values)\n",
    "plt.grid(alpha=0.4)"
   ]
  },
  {
   "cell_type": "code",
   "execution_count": 15,
   "id": "30c7dd27",
   "metadata": {
    "execution": {
     "iopub.execute_input": "2024-12-02T23:44:10.368725Z",
     "iopub.status.busy": "2024-12-02T23:44:10.367629Z",
     "iopub.status.idle": "2024-12-02T23:44:10.375735Z",
     "shell.execute_reply": "2024-12-02T23:44:10.374747Z"
    },
    "papermill": {
     "duration": 0.017975,
     "end_time": "2024-12-02T23:44:10.377735",
     "exception": false,
     "start_time": "2024-12-02T23:44:10.359760",
     "status": "completed"
    },
    "tags": []
   },
   "outputs": [
    {
     "data": {
      "text/plain": [
       "City\n",
       "Yangon       340\n",
       "Mandalay     332\n",
       "Naypyitaw    328\n",
       "Name: count, dtype: int64"
      ]
     },
     "execution_count": 15,
     "metadata": {},
     "output_type": "execute_result"
    }
   ],
   "source": [
    "city = sales_df.City.value_counts()\n",
    "city"
   ]
  },
  {
   "cell_type": "code",
   "execution_count": 16,
   "id": "71592743",
   "metadata": {
    "execution": {
     "iopub.execute_input": "2024-12-02T23:44:10.392399Z",
     "iopub.status.busy": "2024-12-02T23:44:10.392005Z",
     "iopub.status.idle": "2024-12-02T23:44:10.631160Z",
     "shell.execute_reply": "2024-12-02T23:44:10.630147Z"
    },
    "papermill": {
     "duration": 0.249207,
     "end_time": "2024-12-02T23:44:10.633400",
     "exception": false,
     "start_time": "2024-12-02T23:44:10.384193",
     "status": "completed"
    },
    "tags": []
   },
   "outputs": [
    {
     "data": {
      "text/plain": [
       "(array([0, 1, 2]),\n",
       " [Text(0, 0, 'Yangon'), Text(1, 0, 'Mandalay'), Text(2, 0, 'Naypyitaw')])"
      ]
     },
     "execution_count": 16,
     "metadata": {},
     "output_type": "execute_result"
    },
    {
     "data": {
      "image/png": "[encoded data removed]",
      "text/plain": [
       "<Figure size 200x300 with 1 Axes>"
      ]
     },
     "metadata": {},
     "output_type": "display_data"
    }
   ],
   "source": [
    "plt.figure(figsize=(2,3))\n",
    "plt.title(\"Sales in the cities\")\n",
    "plt.xlabel(\"City\")\n",
    "plt.ylabel(\"Sales\")\n",
    "sns.barplot(x=city.index, y=city.values)\n",
    "plt.grid(alpha=0.5)\n",
    "plt.xticks(rotation=20)"
   ]
  },
  {
   "cell_type": "code",
   "execution_count": 17,
   "id": "a1c56967",
   "metadata": {
    "execution": {
     "iopub.execute_input": "2024-12-02T23:44:10.649295Z",
     "iopub.status.busy": "2024-12-02T23:44:10.648895Z",
     "iopub.status.idle": "2024-12-02T23:44:10.657294Z",
     "shell.execute_reply": "2024-12-02T23:44:10.656215Z"
    },
    "papermill": {
     "duration": 0.018631,
     "end_time": "2024-12-02T23:44:10.659207",
     "exception": false,
     "start_time": "2024-12-02T23:44:10.640576",
     "status": "completed"
    },
    "tags": []
   },
   "outputs": [
    {
     "data": {
      "text/plain": [
       "CustomerType\n",
       "Member    501\n",
       "Normal    499\n",
       "Name: count, dtype: int64"
      ]
     },
     "execution_count": 17,
     "metadata": {},
     "output_type": "execute_result"
    }
   ],
   "source": [
    "customer_type = sales_df.CustomerType.value_counts()\n",
    "customer_type"
   ]
  },
  {
   "cell_type": "code",
   "execution_count": 18,
   "id": "81217478",
   "metadata": {
    "execution": {
     "iopub.execute_input": "2024-12-02T23:44:10.675080Z",
     "iopub.status.busy": "2024-12-02T23:44:10.674704Z",
     "iopub.status.idle": "2024-12-02T23:44:10.890191Z",
     "shell.execute_reply": "2024-12-02T23:44:10.889143Z"
    },
    "papermill": {
     "duration": 0.226016,
     "end_time": "2024-12-02T23:44:10.892412",
     "exception": false,
     "start_time": "2024-12-02T23:44:10.666396",
     "status": "completed"
    },
    "tags": []
   },
   "outputs": [
    {
     "data": {
      "text/plain": [
       "<Axes: title={'center': 'Type of the customer(Member/Normal)'}, xlabel='CustomerType', ylabel='Sales'>"
      ]
     },
     "execution_count": 18,
     "metadata": {},
     "output_type": "execute_result"
    },
    {
     "data": {
      "image/png": "[encoded data removed]",
      "text/plain": [
       "<Figure size 200x300 with 1 Axes>"
      ]
     },
     "metadata": {},
     "output_type": "display_data"
    }
   ],
   "source": [
    "plt.figure(figsize=(2,3))\n",
    "plt.title(\"Type of the customer(Member/Normal)\")\n",
    "plt.ylabel('Sales')\n",
    "sns.barplot(x=customer_type.index, y=customer_type.values)"
   ]
  },
  {
   "cell_type": "code",
   "execution_count": 19,
   "id": "fb6c2c9a",
   "metadata": {
    "execution": {
     "iopub.execute_input": "2024-12-02T23:44:10.909269Z",
     "iopub.status.busy": "2024-12-02T23:44:10.908887Z",
     "iopub.status.idle": "2024-12-02T23:44:10.917035Z",
     "shell.execute_reply": "2024-12-02T23:44:10.915965Z"
    },
    "papermill": {
     "duration": 0.019067,
     "end_time": "2024-12-02T23:44:10.919125",
     "exception": false,
     "start_time": "2024-12-02T23:44:10.900058",
     "status": "completed"
    },
    "tags": []
   },
   "outputs": [
    {
     "data": {
      "text/plain": [
       "Product_Line\n",
       "Fashion accessories       178\n",
       "Food and beverages        174\n",
       "Electronic accessories    170\n",
       "Sports and travel         166\n",
       "Home and lifestyle        160\n",
       "Health and beauty         152\n",
       "Name: count, dtype: int64"
      ]
     },
     "execution_count": 19,
     "metadata": {},
     "output_type": "execute_result"
    }
   ],
   "source": [
    "product_category = sales_df.Product_Line.value_counts()\n",
    "product_category"
   ]
  },
  {
   "cell_type": "code",
   "execution_count": 20,
   "id": "3ae47e93",
   "metadata": {
    "execution": {
     "iopub.execute_input": "2024-12-02T23:44:10.936424Z",
     "iopub.status.busy": "2024-12-02T23:44:10.936043Z",
     "iopub.status.idle": "2024-12-02T23:44:11.199619Z",
     "shell.execute_reply": "2024-12-02T23:44:11.198506Z"
    },
    "papermill": {
     "duration": 0.275202,
     "end_time": "2024-12-02T23:44:11.202204",
     "exception": false,
     "start_time": "2024-12-02T23:44:10.927002",
     "status": "completed"
    },
    "tags": []
   },
   "outputs": [
    {
     "data": {
      "text/plain": [
       "(array([0, 1, 2, 3, 4, 5]),\n",
       " [Text(0, 0, 'Fashion accessories'),\n",
       "  Text(1, 0, 'Food and beverages'),\n",
       "  Text(2, 0, 'Electronic accessories'),\n",
       "  Text(3, 0, 'Sports and travel'),\n",
       "  Text(4, 0, 'Home and lifestyle'),\n",
       "  Text(5, 0, 'Health and beauty')])"
      ]
     },
     "execution_count": 20,
     "metadata": {},
     "output_type": "execute_result"
    },
    {
     "data": {
      "image/png": "[encoded data removed]",
      "text/plain": [
       "<Figure size 900x400 with 1 Axes>"
      ]
     },
     "metadata": {},
     "output_type": "display_data"
    }
   ],
   "source": [
    "plt.figure(figsize=(9, 4))\n",
    "plt.title(\"Product Categories\")\n",
    "plt.ylabel(\"Sales\")\n",
    "sns.barplot(x=product_category.index, y=product_category.values)\n",
    "plt.grid(alpha=0.5)\n",
    "plt.xticks(rotation=20)"
   ]
  },
  {
   "cell_type": "code",
   "execution_count": null,
   "id": "21056be8",
   "metadata": {
    "papermill": {
     "duration": 0.008185,
     "end_time": "2024-12-02T23:44:11.218947",
     "exception": false,
     "start_time": "2024-12-02T23:44:11.210762",
     "status": "completed"
    },
    "tags": []
   },
   "outputs": [],
   "source": []
  }
 ],
 "metadata": {
  "kaggle": {
   "accelerator": "none",
   "dataSources": [
    {
     "datasetId": 6042381,
     "sourceId": 9847832,
     "sourceType": "datasetVersion"
    }
   ],
   "dockerImageVersionId": 30786,
   "isGpuEnabled": false,
   "isInternetEnabled": false,
   "language": "python",
   "sourceType": "notebook"
  },
  "kernelspec": {
   "display_name": "Python 3",
   "language": "python",
   "name": "python3"
  },
  "language_info": {
   "codemirror_mode": {
    "name": "ipython",
    "version": 3
   },
   "file_extension": ".py",
   "mimetype": "text/x-python",
   "name": "python",
   "nbconvert_exporter": "python",
   "pygments_lexer": "ipython3",
   "version": "3.10.14"
  },
  "papermill": {
   "default_parameters": {},
   "duration": 7.038662,
   "end_time": "2024-12-02T23:44:11.849069",
   "environment_variables": {},
   "exception": null,
   "input_path": "__notebook__.ipynb",
   "output_path": "__notebook__.ipynb",
   "parameters": {},
   "start_time": "2024-12-02T23:44:04.810407",
   "version": "2.6.0"
  }
 },
 "nbformat": 4,
 "nbformat_minor": 5
}
