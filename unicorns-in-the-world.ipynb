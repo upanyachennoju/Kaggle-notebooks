{
 "cells": [
  {
   "cell_type": "markdown",
   "id": "70aeb268",
   "metadata": {
    "papermill": {
     "duration": 0.007173,
     "end_time": "2024-12-06T14:05:00.655011",
     "exception": false,
     "start_time": "2024-12-06T14:05:00.647838",
     "status": "completed"
    },
    "tags": []
   },
   "source": [
    "# Data Analysis of All the unicorns in the world"
   ]
  },
  {
   "cell_type": "markdown",
   "id": "a05a670b",
   "metadata": {
    "papermill": {
     "duration": 0.006023,
     "end_time": "2024-12-06T14:05:00.667588",
     "exception": false,
     "start_time": "2024-12-06T14:05:00.661565",
     "status": "completed"
    },
    "tags": []
   },
   "source": [
    "Import all the necessary libraries."
   ]
  },
  {
   "cell_type": "code",
   "execution_count": 1,
   "id": "d49f6f36",
   "metadata": {
    "_cell_guid": "b1076dfc-b9ad-4769-8c92-a6c4dae69d19",
    "_uuid": "8f2839f25d086af736a60e9eeb907d3b93b6e0e5",
    "execution": {
     "iopub.execute_input": "2024-12-06T14:05:00.681831Z",
     "iopub.status.busy": "2024-12-06T14:05:00.681466Z",
     "iopub.status.idle": "2024-12-06T14:05:03.074845Z",
     "shell.execute_reply": "2024-12-06T14:05:03.073785Z"
    },
    "papermill": {
     "duration": 2.403287,
     "end_time": "2024-12-06T14:05:03.077243",
     "exception": false,
     "start_time": "2024-12-06T14:05:00.673956",
     "status": "completed"
    },
    "tags": []
   },
   "outputs": [],
   "source": [
    "import numpy as np \n",
    "import pandas as pd \n",
    "import matplotlib.pyplot as plt\n",
    "import seaborn as sns"
   ]
  },
  {
   "cell_type": "markdown",
   "id": "37497e35",
   "metadata": {
    "papermill": {
     "duration": 0.006316,
     "end_time": "2024-12-06T14:05:03.091244",
     "exception": false,
     "start_time": "2024-12-06T14:05:03.084928",
     "status": "completed"
    },
    "tags": []
   },
   "source": [
    "Read the csv file of the dataset."
   ]
  },
  {
   "cell_type": "code",
   "execution_count": 2,
   "id": "7219477e",
   "metadata": {
    "execution": {
     "iopub.execute_input": "2024-12-06T14:05:03.106122Z",
     "iopub.status.busy": "2024-12-06T14:05:03.105634Z",
     "iopub.status.idle": "2024-12-06T14:05:03.125624Z",
     "shell.execute_reply": "2024-12-06T14:05:03.124760Z"
    },
    "papermill": {
     "duration": 0.029948,
     "end_time": "2024-12-06T14:05:03.127712",
     "exception": false,
     "start_time": "2024-12-06T14:05:03.097764",
     "status": "completed"
    },
    "tags": []
   },
   "outputs": [],
   "source": [
    "unicorns_df = pd.read_csv('/kaggle/input/all-the-unicorns-in-the-world/List of Unicorns in the World.csv')"
   ]
  },
  {
   "cell_type": "code",
   "execution_count": 3,
   "id": "9dab7c89",
   "metadata": {
    "execution": {
     "iopub.execute_input": "2024-12-06T14:05:03.142550Z",
     "iopub.status.busy": "2024-12-06T14:05:03.141833Z",
     "iopub.status.idle": "2024-12-06T14:05:03.160664Z",
     "shell.execute_reply": "2024-12-06T14:05:03.159731Z"
    },
    "papermill": {
     "duration": 0.028364,
     "end_time": "2024-12-06T14:05:03.162672",
     "exception": false,
     "start_time": "2024-12-06T14:05:03.134308",
     "status": "completed"
    },
    "tags": []
   },
   "outputs": [
    {
     "data": {
      "text/html": [
       "<div>\n",
       "<style scoped>\n",
       "    .dataframe tbody tr th:only-of-type {\n",
       "        vertical-align: middle;\n",
       "    }\n",
       "\n",
       "    .dataframe tbody tr th {\n",
       "        vertical-align: top;\n",
       "    }\n",
       "\n",
       "    .dataframe thead th {\n",
       "        text-align: right;\n",
       "    }\n",
       "</style>\n",
       "<table border=\"1\" class=\"dataframe\">\n",
       "  <thead>\n",
       "    <tr style=\"text-align: right;\">\n",
       "      <th></th>\n",
       "      <th>Unnamed: 0</th>\n",
       "      <th>Company</th>\n",
       "      <th>Valuation ($B)</th>\n",
       "      <th>Date Joined</th>\n",
       "      <th>Country</th>\n",
       "      <th>City</th>\n",
       "      <th>Industry</th>\n",
       "    </tr>\n",
       "  </thead>\n",
       "  <tbody>\n",
       "    <tr>\n",
       "      <th>0</th>\n",
       "      <td>0</td>\n",
       "      <td>ByteDance</td>\n",
       "      <td>$225</td>\n",
       "      <td>4/7/2017</td>\n",
       "      <td>China</td>\n",
       "      <td>Beijing</td>\n",
       "      <td>Media &amp; Entertainment</td>\n",
       "    </tr>\n",
       "    <tr>\n",
       "      <th>1</th>\n",
       "      <td>1</td>\n",
       "      <td>SpaceX</td>\n",
       "      <td>$150</td>\n",
       "      <td>12/1/2012</td>\n",
       "      <td>United States</td>\n",
       "      <td>Hawthorne</td>\n",
       "      <td>Industrials</td>\n",
       "    </tr>\n",
       "    <tr>\n",
       "      <th>2</th>\n",
       "      <td>2</td>\n",
       "      <td>OpenAI</td>\n",
       "      <td>$80</td>\n",
       "      <td>7/22/2019</td>\n",
       "      <td>United States</td>\n",
       "      <td>San Francisco</td>\n",
       "      <td>Enterprise Tech</td>\n",
       "    </tr>\n",
       "    <tr>\n",
       "      <th>3</th>\n",
       "      <td>3</td>\n",
       "      <td>SHEIN</td>\n",
       "      <td>$66</td>\n",
       "      <td>7/3/2018</td>\n",
       "      <td>Singapore</td>\n",
       "      <td>Singapore City</td>\n",
       "      <td>Consumer &amp; Retail</td>\n",
       "    </tr>\n",
       "    <tr>\n",
       "      <th>4</th>\n",
       "      <td>4</td>\n",
       "      <td>Stripe</td>\n",
       "      <td>$65</td>\n",
       "      <td>1/23/2014</td>\n",
       "      <td>United States</td>\n",
       "      <td>San Francisco</td>\n",
       "      <td>Financial Services</td>\n",
       "    </tr>\n",
       "  </tbody>\n",
       "</table>\n",
       "</div>"
      ],
      "text/plain": [
       "   Unnamed: 0    Company Valuation ($B) Date Joined        Country  \\\n",
       "0           0  ByteDance           $225    4/7/2017          China   \n",
       "1           1     SpaceX           $150   12/1/2012  United States   \n",
       "2           2     OpenAI            $80   7/22/2019  United States   \n",
       "3           3      SHEIN            $66    7/3/2018      Singapore   \n",
       "4           4     Stripe            $65   1/23/2014  United States   \n",
       "\n",
       "             City               Industry  \n",
       "0         Beijing  Media & Entertainment  \n",
       "1       Hawthorne            Industrials  \n",
       "2   San Francisco        Enterprise Tech  \n",
       "3  Singapore City      Consumer & Retail  \n",
       "4   San Francisco     Financial Services  "
      ]
     },
     "execution_count": 3,
     "metadata": {},
     "output_type": "execute_result"
    }
   ],
   "source": [
    "unicorns_df.head()"
   ]
  },
  {
   "cell_type": "code",
   "execution_count": 4,
   "id": "28d629c5",
   "metadata": {
    "execution": {
     "iopub.execute_input": "2024-12-06T14:05:03.177794Z",
     "iopub.status.busy": "2024-12-06T14:05:03.177444Z",
     "iopub.status.idle": "2024-12-06T14:05:03.183619Z",
     "shell.execute_reply": "2024-12-06T14:05:03.182570Z"
    },
    "papermill": {
     "duration": 0.015875,
     "end_time": "2024-12-06T14:05:03.185515",
     "exception": false,
     "start_time": "2024-12-06T14:05:03.169640",
     "status": "completed"
    },
    "tags": []
   },
   "outputs": [
    {
     "data": {
      "text/plain": [
       "Index(['Unnamed: 0', 'Company', 'Valuation ($B)', 'Date Joined', 'Country',\n",
       "       'City', 'Industry'],\n",
       "      dtype='object')"
      ]
     },
     "execution_count": 4,
     "metadata": {},
     "output_type": "execute_result"
    }
   ],
   "source": [
    "unicorns_df.columns"
   ]
  },
  {
   "cell_type": "markdown",
   "id": "3fad372f",
   "metadata": {
    "papermill": {
     "duration": 0.006506,
     "end_time": "2024-12-06T14:05:03.199216",
     "exception": false,
     "start_time": "2024-12-06T14:05:03.192710",
     "status": "completed"
    },
    "tags": []
   },
   "source": [
    "Replace the 'dollar sign'  in the Valuation ($B) column."
   ]
  },
  {
   "cell_type": "code",
   "execution_count": 5,
   "id": "b88b8dd4",
   "metadata": {
    "execution": {
     "iopub.execute_input": "2024-12-06T14:05:03.214176Z",
     "iopub.status.busy": "2024-12-06T14:05:03.213818Z",
     "iopub.status.idle": "2024-12-06T14:05:03.222312Z",
     "shell.execute_reply": "2024-12-06T14:05:03.221397Z"
    },
    "papermill": {
     "duration": 0.018341,
     "end_time": "2024-12-06T14:05:03.224264",
     "exception": false,
     "start_time": "2024-12-06T14:05:03.205923",
     "status": "completed"
    },
    "tags": []
   },
   "outputs": [],
   "source": [
    "unicorns_df[\"Valuation ($B)\"] = unicorns_df[\"Valuation ($B)\"].replace(['\\$'], '', regex=True)"
   ]
  },
  {
   "cell_type": "code",
   "execution_count": 6,
   "id": "91f0b655",
   "metadata": {
    "execution": {
     "iopub.execute_input": "2024-12-06T14:05:03.239416Z",
     "iopub.status.busy": "2024-12-06T14:05:03.238752Z",
     "iopub.status.idle": "2024-12-06T14:05:03.249915Z",
     "shell.execute_reply": "2024-12-06T14:05:03.248950Z"
    },
    "papermill": {
     "duration": 0.020665,
     "end_time": "2024-12-06T14:05:03.251704",
     "exception": false,
     "start_time": "2024-12-06T14:05:03.231039",
     "status": "completed"
    },
    "tags": []
   },
   "outputs": [
    {
     "data": {
      "text/html": [
       "<div>\n",
       "<style scoped>\n",
       "    .dataframe tbody tr th:only-of-type {\n",
       "        vertical-align: middle;\n",
       "    }\n",
       "\n",
       "    .dataframe tbody tr th {\n",
       "        vertical-align: top;\n",
       "    }\n",
       "\n",
       "    .dataframe thead th {\n",
       "        text-align: right;\n",
       "    }\n",
       "</style>\n",
       "<table border=\"1\" class=\"dataframe\">\n",
       "  <thead>\n",
       "    <tr style=\"text-align: right;\">\n",
       "      <th></th>\n",
       "      <th>Unnamed: 0</th>\n",
       "      <th>Company</th>\n",
       "      <th>Valuation ($B)</th>\n",
       "      <th>Date Joined</th>\n",
       "      <th>Country</th>\n",
       "      <th>City</th>\n",
       "      <th>Industry</th>\n",
       "    </tr>\n",
       "  </thead>\n",
       "  <tbody>\n",
       "    <tr>\n",
       "      <th>0</th>\n",
       "      <td>0</td>\n",
       "      <td>ByteDance</td>\n",
       "      <td>225</td>\n",
       "      <td>4/7/2017</td>\n",
       "      <td>China</td>\n",
       "      <td>Beijing</td>\n",
       "      <td>Media &amp; Entertainment</td>\n",
       "    </tr>\n",
       "    <tr>\n",
       "      <th>1</th>\n",
       "      <td>1</td>\n",
       "      <td>SpaceX</td>\n",
       "      <td>150</td>\n",
       "      <td>12/1/2012</td>\n",
       "      <td>United States</td>\n",
       "      <td>Hawthorne</td>\n",
       "      <td>Industrials</td>\n",
       "    </tr>\n",
       "    <tr>\n",
       "      <th>2</th>\n",
       "      <td>2</td>\n",
       "      <td>OpenAI</td>\n",
       "      <td>80</td>\n",
       "      <td>7/22/2019</td>\n",
       "      <td>United States</td>\n",
       "      <td>San Francisco</td>\n",
       "      <td>Enterprise Tech</td>\n",
       "    </tr>\n",
       "    <tr>\n",
       "      <th>3</th>\n",
       "      <td>3</td>\n",
       "      <td>SHEIN</td>\n",
       "      <td>66</td>\n",
       "      <td>7/3/2018</td>\n",
       "      <td>Singapore</td>\n",
       "      <td>Singapore City</td>\n",
       "      <td>Consumer &amp; Retail</td>\n",
       "    </tr>\n",
       "    <tr>\n",
       "      <th>4</th>\n",
       "      <td>4</td>\n",
       "      <td>Stripe</td>\n",
       "      <td>65</td>\n",
       "      <td>1/23/2014</td>\n",
       "      <td>United States</td>\n",
       "      <td>San Francisco</td>\n",
       "      <td>Financial Services</td>\n",
       "    </tr>\n",
       "  </tbody>\n",
       "</table>\n",
       "</div>"
      ],
      "text/plain": [
       "   Unnamed: 0    Company Valuation ($B) Date Joined        Country  \\\n",
       "0           0  ByteDance            225    4/7/2017          China   \n",
       "1           1     SpaceX            150   12/1/2012  United States   \n",
       "2           2     OpenAI             80   7/22/2019  United States   \n",
       "3           3      SHEIN             66    7/3/2018      Singapore   \n",
       "4           4     Stripe             65   1/23/2014  United States   \n",
       "\n",
       "             City               Industry  \n",
       "0         Beijing  Media & Entertainment  \n",
       "1       Hawthorne            Industrials  \n",
       "2   San Francisco        Enterprise Tech  \n",
       "3  Singapore City      Consumer & Retail  \n",
       "4   San Francisco     Financial Services  "
      ]
     },
     "execution_count": 6,
     "metadata": {},
     "output_type": "execute_result"
    }
   ],
   "source": [
    "unicorns_df.head()"
   ]
  },
  {
   "cell_type": "code",
   "execution_count": 7,
   "id": "5b129941",
   "metadata": {
    "execution": {
     "iopub.execute_input": "2024-12-06T14:05:03.267598Z",
     "iopub.status.busy": "2024-12-06T14:05:03.266712Z",
     "iopub.status.idle": "2024-12-06T14:05:03.273118Z",
     "shell.execute_reply": "2024-12-06T14:05:03.272165Z"
    },
    "papermill": {
     "duration": 0.016448,
     "end_time": "2024-12-06T14:05:03.275053",
     "exception": false,
     "start_time": "2024-12-06T14:05:03.258605",
     "status": "completed"
    },
    "tags": []
   },
   "outputs": [
    {
     "data": {
      "text/plain": [
       "pandas.core.frame.DataFrame"
      ]
     },
     "execution_count": 7,
     "metadata": {},
     "output_type": "execute_result"
    }
   ],
   "source": [
    "type(unicorns_df)"
   ]
  },
  {
   "cell_type": "markdown",
   "id": "5504fc75",
   "metadata": {
    "papermill": {
     "duration": 0.006692,
     "end_time": "2024-12-06T14:05:03.288764",
     "exception": false,
     "start_time": "2024-12-06T14:05:03.282072",
     "status": "completed"
    },
    "tags": []
   },
   "source": [
    "Dropping the Unnamed column."
   ]
  },
  {
   "cell_type": "code",
   "execution_count": 8,
   "id": "ef4a0461",
   "metadata": {
    "execution": {
     "iopub.execute_input": "2024-12-06T14:05:03.304473Z",
     "iopub.status.busy": "2024-12-06T14:05:03.303779Z",
     "iopub.status.idle": "2024-12-06T14:05:03.313436Z",
     "shell.execute_reply": "2024-12-06T14:05:03.312511Z"
    },
    "papermill": {
     "duration": 0.01958,
     "end_time": "2024-12-06T14:05:03.315292",
     "exception": false,
     "start_time": "2024-12-06T14:05:03.295712",
     "status": "completed"
    },
    "tags": []
   },
   "outputs": [],
   "source": [
    "unicorns_df.drop('Unnamed: 0', axis=1, inplace=True)"
   ]
  },
  {
   "cell_type": "markdown",
   "id": "a61bf578",
   "metadata": {
    "papermill": {
     "duration": 0.006589,
     "end_time": "2024-12-06T14:05:03.328837",
     "exception": false,
     "start_time": "2024-12-06T14:05:03.322248",
     "status": "completed"
    },
    "tags": []
   },
   "source": [
    "Checking the shape of the dataset."
   ]
  },
  {
   "cell_type": "code",
   "execution_count": 9,
   "id": "93305f52",
   "metadata": {
    "execution": {
     "iopub.execute_input": "2024-12-06T14:05:03.344406Z",
     "iopub.status.busy": "2024-12-06T14:05:03.343636Z",
     "iopub.status.idle": "2024-12-06T14:05:03.349918Z",
     "shell.execute_reply": "2024-12-06T14:05:03.348911Z"
    },
    "papermill": {
     "duration": 0.016168,
     "end_time": "2024-12-06T14:05:03.351847",
     "exception": false,
     "start_time": "2024-12-06T14:05:03.335679",
     "status": "completed"
    },
    "tags": []
   },
   "outputs": [
    {
     "data": {
      "text/plain": [
       "(1233, 6)"
      ]
     },
     "execution_count": 9,
     "metadata": {},
     "output_type": "execute_result"
    }
   ],
   "source": [
    "unicorns_df.shape"
   ]
  },
  {
   "cell_type": "markdown",
   "id": "741c342f",
   "metadata": {
    "papermill": {
     "duration": 0.006716,
     "end_time": "2024-12-06T14:05:03.365468",
     "exception": false,
     "start_time": "2024-12-06T14:05:03.358752",
     "status": "completed"
    },
    "tags": []
   },
   "source": [
    "Making a new column for the year joined."
   ]
  },
  {
   "cell_type": "code",
   "execution_count": 10,
   "id": "741de19e",
   "metadata": {
    "execution": {
     "iopub.execute_input": "2024-12-06T14:05:03.381366Z",
     "iopub.status.busy": "2024-12-06T14:05:03.380393Z",
     "iopub.status.idle": "2024-12-06T14:05:03.393402Z",
     "shell.execute_reply": "2024-12-06T14:05:03.392366Z"
    },
    "papermill": {
     "duration": 0.02294,
     "end_time": "2024-12-06T14:05:03.395311",
     "exception": false,
     "start_time": "2024-12-06T14:05:03.372371",
     "status": "completed"
    },
    "tags": []
   },
   "outputs": [],
   "source": [
    "unicorns_df['Date Joined'] = pd.to_datetime(unicorns_df['Date Joined'])"
   ]
  },
  {
   "cell_type": "code",
   "execution_count": 11,
   "id": "622120b6",
   "metadata": {
    "execution": {
     "iopub.execute_input": "2024-12-06T14:05:03.411366Z",
     "iopub.status.busy": "2024-12-06T14:05:03.410699Z",
     "iopub.status.idle": "2024-12-06T14:05:03.417436Z",
     "shell.execute_reply": "2024-12-06T14:05:03.416469Z"
    },
    "papermill": {
     "duration": 0.0169,
     "end_time": "2024-12-06T14:05:03.419441",
     "exception": false,
     "start_time": "2024-12-06T14:05:03.402541",
     "status": "completed"
    },
    "tags": []
   },
   "outputs": [],
   "source": [
    "unicorns_df['Year Joined'] = unicorns_df['Date Joined'].dt.year"
   ]
  },
  {
   "cell_type": "code",
   "execution_count": 12,
   "id": "1958cfba",
   "metadata": {
    "execution": {
     "iopub.execute_input": "2024-12-06T14:05:03.435079Z",
     "iopub.status.busy": "2024-12-06T14:05:03.434735Z",
     "iopub.status.idle": "2024-12-06T14:05:03.448107Z",
     "shell.execute_reply": "2024-12-06T14:05:03.447150Z"
    },
    "papermill": {
     "duration": 0.023571,
     "end_time": "2024-12-06T14:05:03.450114",
     "exception": false,
     "start_time": "2024-12-06T14:05:03.426543",
     "status": "completed"
    },
    "tags": []
   },
   "outputs": [
    {
     "data": {
      "text/html": [
       "<div>\n",
       "<style scoped>\n",
       "    .dataframe tbody tr th:only-of-type {\n",
       "        vertical-align: middle;\n",
       "    }\n",
       "\n",
       "    .dataframe tbody tr th {\n",
       "        vertical-align: top;\n",
       "    }\n",
       "\n",
       "    .dataframe thead th {\n",
       "        text-align: right;\n",
       "    }\n",
       "</style>\n",
       "<table border=\"1\" class=\"dataframe\">\n",
       "  <thead>\n",
       "    <tr style=\"text-align: right;\">\n",
       "      <th></th>\n",
       "      <th>Company</th>\n",
       "      <th>Valuation ($B)</th>\n",
       "      <th>Date Joined</th>\n",
       "      <th>Country</th>\n",
       "      <th>City</th>\n",
       "      <th>Industry</th>\n",
       "      <th>Year Joined</th>\n",
       "    </tr>\n",
       "  </thead>\n",
       "  <tbody>\n",
       "    <tr>\n",
       "      <th>0</th>\n",
       "      <td>ByteDance</td>\n",
       "      <td>225</td>\n",
       "      <td>2017-04-07</td>\n",
       "      <td>China</td>\n",
       "      <td>Beijing</td>\n",
       "      <td>Media &amp; Entertainment</td>\n",
       "      <td>2017</td>\n",
       "    </tr>\n",
       "    <tr>\n",
       "      <th>1</th>\n",
       "      <td>SpaceX</td>\n",
       "      <td>150</td>\n",
       "      <td>2012-12-01</td>\n",
       "      <td>United States</td>\n",
       "      <td>Hawthorne</td>\n",
       "      <td>Industrials</td>\n",
       "      <td>2012</td>\n",
       "    </tr>\n",
       "    <tr>\n",
       "      <th>2</th>\n",
       "      <td>OpenAI</td>\n",
       "      <td>80</td>\n",
       "      <td>2019-07-22</td>\n",
       "      <td>United States</td>\n",
       "      <td>San Francisco</td>\n",
       "      <td>Enterprise Tech</td>\n",
       "      <td>2019</td>\n",
       "    </tr>\n",
       "    <tr>\n",
       "      <th>3</th>\n",
       "      <td>SHEIN</td>\n",
       "      <td>66</td>\n",
       "      <td>2018-07-03</td>\n",
       "      <td>Singapore</td>\n",
       "      <td>Singapore City</td>\n",
       "      <td>Consumer &amp; Retail</td>\n",
       "      <td>2018</td>\n",
       "    </tr>\n",
       "    <tr>\n",
       "      <th>4</th>\n",
       "      <td>Stripe</td>\n",
       "      <td>65</td>\n",
       "      <td>2014-01-23</td>\n",
       "      <td>United States</td>\n",
       "      <td>San Francisco</td>\n",
       "      <td>Financial Services</td>\n",
       "      <td>2014</td>\n",
       "    </tr>\n",
       "  </tbody>\n",
       "</table>\n",
       "</div>"
      ],
      "text/plain": [
       "     Company Valuation ($B) Date Joined        Country            City  \\\n",
       "0  ByteDance            225  2017-04-07          China         Beijing   \n",
       "1     SpaceX            150  2012-12-01  United States       Hawthorne   \n",
       "2     OpenAI             80  2019-07-22  United States   San Francisco   \n",
       "3      SHEIN             66  2018-07-03      Singapore  Singapore City   \n",
       "4     Stripe             65  2014-01-23  United States   San Francisco   \n",
       "\n",
       "                Industry  Year Joined  \n",
       "0  Media & Entertainment         2017  \n",
       "1            Industrials         2012  \n",
       "2        Enterprise Tech         2019  \n",
       "3      Consumer & Retail         2018  \n",
       "4     Financial Services         2014  "
      ]
     },
     "execution_count": 12,
     "metadata": {},
     "output_type": "execute_result"
    }
   ],
   "source": [
    "unicorns_df.head()"
   ]
  },
  {
   "cell_type": "code",
   "execution_count": 13,
   "id": "118dc6d1",
   "metadata": {
    "execution": {
     "iopub.execute_input": "2024-12-06T14:05:03.466415Z",
     "iopub.status.busy": "2024-12-06T14:05:03.465749Z",
     "iopub.status.idle": "2024-12-06T14:05:03.472303Z",
     "shell.execute_reply": "2024-12-06T14:05:03.471369Z"
    },
    "papermill": {
     "duration": 0.016629,
     "end_time": "2024-12-06T14:05:03.474092",
     "exception": false,
     "start_time": "2024-12-06T14:05:03.457463",
     "status": "completed"
    },
    "tags": []
   },
   "outputs": [],
   "source": [
    "unicorns_df.drop('Date Joined', axis=1, inplace=True)"
   ]
  },
  {
   "cell_type": "code",
   "execution_count": 14,
   "id": "e72d0284",
   "metadata": {
    "execution": {
     "iopub.execute_input": "2024-12-06T14:05:03.490170Z",
     "iopub.status.busy": "2024-12-06T14:05:03.489462Z",
     "iopub.status.idle": "2024-12-06T14:05:03.500065Z",
     "shell.execute_reply": "2024-12-06T14:05:03.499060Z"
    },
    "papermill": {
     "duration": 0.020725,
     "end_time": "2024-12-06T14:05:03.501992",
     "exception": false,
     "start_time": "2024-12-06T14:05:03.481267",
     "status": "completed"
    },
    "tags": []
   },
   "outputs": [
    {
     "data": {
      "text/html": [
       "<div>\n",
       "<style scoped>\n",
       "    .dataframe tbody tr th:only-of-type {\n",
       "        vertical-align: middle;\n",
       "    }\n",
       "\n",
       "    .dataframe tbody tr th {\n",
       "        vertical-align: top;\n",
       "    }\n",
       "\n",
       "    .dataframe thead th {\n",
       "        text-align: right;\n",
       "    }\n",
       "</style>\n",
       "<table border=\"1\" class=\"dataframe\">\n",
       "  <thead>\n",
       "    <tr style=\"text-align: right;\">\n",
       "      <th></th>\n",
       "      <th>Company</th>\n",
       "      <th>Valuation ($B)</th>\n",
       "      <th>Country</th>\n",
       "      <th>City</th>\n",
       "      <th>Industry</th>\n",
       "      <th>Year Joined</th>\n",
       "    </tr>\n",
       "  </thead>\n",
       "  <tbody>\n",
       "    <tr>\n",
       "      <th>0</th>\n",
       "      <td>ByteDance</td>\n",
       "      <td>225</td>\n",
       "      <td>China</td>\n",
       "      <td>Beijing</td>\n",
       "      <td>Media &amp; Entertainment</td>\n",
       "      <td>2017</td>\n",
       "    </tr>\n",
       "    <tr>\n",
       "      <th>1</th>\n",
       "      <td>SpaceX</td>\n",
       "      <td>150</td>\n",
       "      <td>United States</td>\n",
       "      <td>Hawthorne</td>\n",
       "      <td>Industrials</td>\n",
       "      <td>2012</td>\n",
       "    </tr>\n",
       "    <tr>\n",
       "      <th>2</th>\n",
       "      <td>OpenAI</td>\n",
       "      <td>80</td>\n",
       "      <td>United States</td>\n",
       "      <td>San Francisco</td>\n",
       "      <td>Enterprise Tech</td>\n",
       "      <td>2019</td>\n",
       "    </tr>\n",
       "    <tr>\n",
       "      <th>3</th>\n",
       "      <td>SHEIN</td>\n",
       "      <td>66</td>\n",
       "      <td>Singapore</td>\n",
       "      <td>Singapore City</td>\n",
       "      <td>Consumer &amp; Retail</td>\n",
       "      <td>2018</td>\n",
       "    </tr>\n",
       "    <tr>\n",
       "      <th>4</th>\n",
       "      <td>Stripe</td>\n",
       "      <td>65</td>\n",
       "      <td>United States</td>\n",
       "      <td>San Francisco</td>\n",
       "      <td>Financial Services</td>\n",
       "      <td>2014</td>\n",
       "    </tr>\n",
       "  </tbody>\n",
       "</table>\n",
       "</div>"
      ],
      "text/plain": [
       "     Company Valuation ($B)        Country            City  \\\n",
       "0  ByteDance            225          China         Beijing   \n",
       "1     SpaceX            150  United States       Hawthorne   \n",
       "2     OpenAI             80  United States   San Francisco   \n",
       "3      SHEIN             66      Singapore  Singapore City   \n",
       "4     Stripe             65  United States   San Francisco   \n",
       "\n",
       "                Industry  Year Joined  \n",
       "0  Media & Entertainment         2017  \n",
       "1            Industrials         2012  \n",
       "2        Enterprise Tech         2019  \n",
       "3      Consumer & Retail         2018  \n",
       "4     Financial Services         2014  "
      ]
     },
     "execution_count": 14,
     "metadata": {},
     "output_type": "execute_result"
    }
   ],
   "source": [
    "unicorns_df.head()"
   ]
  },
  {
   "cell_type": "markdown",
   "id": "2d5dc626",
   "metadata": {
    "papermill": {
     "duration": 0.007172,
     "end_time": "2024-12-06T14:05:03.516751",
     "exception": false,
     "start_time": "2024-12-06T14:05:03.509579",
     "status": "completed"
    },
    "tags": []
   },
   "source": []
  },
  {
   "cell_type": "code",
   "execution_count": 15,
   "id": "f810e6ec",
   "metadata": {
    "execution": {
     "iopub.execute_input": "2024-12-06T14:05:03.533310Z",
     "iopub.status.busy": "2024-12-06T14:05:03.532562Z",
     "iopub.status.idle": "2024-12-06T14:05:03.553310Z",
     "shell.execute_reply": "2024-12-06T14:05:03.552152Z"
    },
    "papermill": {
     "duration": 0.031652,
     "end_time": "2024-12-06T14:05:03.555728",
     "exception": false,
     "start_time": "2024-12-06T14:05:03.524076",
     "status": "completed"
    },
    "tags": []
   },
   "outputs": [
    {
     "name": "stdout",
     "output_type": "stream",
     "text": [
      "<class 'pandas.core.frame.DataFrame'>\n",
      "RangeIndex: 1233 entries, 0 to 1232\n",
      "Data columns (total 6 columns):\n",
      " #   Column          Non-Null Count  Dtype \n",
      "---  ------          --------------  ----- \n",
      " 0   Company         1233 non-null   object\n",
      " 1   Valuation ($B)  1233 non-null   object\n",
      " 2   Country         1233 non-null   object\n",
      " 3   City            1233 non-null   object\n",
      " 4   Industry        1233 non-null   object\n",
      " 5   Year Joined     1233 non-null   int32 \n",
      "dtypes: int32(1), object(5)\n",
      "memory usage: 53.1+ KB\n"
     ]
    }
   ],
   "source": [
    "unicorns_df.info()"
   ]
  },
  {
   "cell_type": "markdown",
   "id": "e8c5fc1a",
   "metadata": {
    "papermill": {
     "duration": 0.007158,
     "end_time": "2024-12-06T14:05:03.570755",
     "exception": false,
     "start_time": "2024-12-06T14:05:03.563597",
     "status": "completed"
    },
    "tags": []
   },
   "source": [
    "Checking for the null values."
   ]
  },
  {
   "cell_type": "code",
   "execution_count": 16,
   "id": "8d7fc85e",
   "metadata": {
    "execution": {
     "iopub.execute_input": "2024-12-06T14:05:03.587400Z",
     "iopub.status.busy": "2024-12-06T14:05:03.586604Z",
     "iopub.status.idle": "2024-12-06T14:05:03.595154Z",
     "shell.execute_reply": "2024-12-06T14:05:03.594158Z"
    },
    "papermill": {
     "duration": 0.018928,
     "end_time": "2024-12-06T14:05:03.596986",
     "exception": false,
     "start_time": "2024-12-06T14:05:03.578058",
     "status": "completed"
    },
    "tags": []
   },
   "outputs": [
    {
     "data": {
      "text/plain": [
       "Company           0\n",
       "Valuation ($B)    0\n",
       "Country           0\n",
       "City              0\n",
       "Industry          0\n",
       "Year Joined       0\n",
       "dtype: int64"
      ]
     },
     "execution_count": 16,
     "metadata": {},
     "output_type": "execute_result"
    }
   ],
   "source": [
    "unicorns_df.isnull().sum().sort_values(ascending=False)"
   ]
  },
  {
   "cell_type": "markdown",
   "id": "f42c21c5",
   "metadata": {
    "papermill": {
     "duration": 0.007203,
     "end_time": "2024-12-06T14:05:03.611640",
     "exception": false,
     "start_time": "2024-12-06T14:05:03.604437",
     "status": "completed"
    },
    "tags": []
   },
   "source": [
    "Countries of the unicorns."
   ]
  },
  {
   "cell_type": "code",
   "execution_count": 17,
   "id": "ca15f4fb",
   "metadata": {
    "execution": {
     "iopub.execute_input": "2024-12-06T14:05:03.628634Z",
     "iopub.status.busy": "2024-12-06T14:05:03.627682Z",
     "iopub.status.idle": "2024-12-06T14:05:03.634556Z",
     "shell.execute_reply": "2024-12-06T14:05:03.633644Z"
    },
    "papermill": {
     "duration": 0.017266,
     "end_time": "2024-12-06T14:05:03.636365",
     "exception": false,
     "start_time": "2024-12-06T14:05:03.619099",
     "status": "completed"
    },
    "tags": []
   },
   "outputs": [
    {
     "data": {
      "text/plain": [
       "array(['China', 'United States', 'Singapore', 'Australia',\n",
       "       'United Kingdom', 'Germany', 'India', 'Israel', 'Seychelles',\n",
       "       'Sweden', 'Turkey', 'Mexico', 'Estonia', 'Canada', 'South Korea',\n",
       "       'Netherlands', 'France', 'Finland', 'Colombia', 'Belgium',\n",
       "       'Brazil', 'Denmark', 'Switzerland', 'Lithuania', 'Austria',\n",
       "       'Ireland', 'Indonesia', 'Vietnam', 'Italy', 'United Arab Emirates',\n",
       "       'Argentina', 'Spain', 'Greece', 'Hong Kong', 'Japan', 'Luxembourg',\n",
       "       'Nigeria', 'Croatia', 'Senegal', 'Malaysia', 'Bermuda', 'Norway',\n",
       "       'South Africa', 'Ecuador', 'Chile', 'Thailand', 'Czech Republic',\n",
       "       'Uzbekistan', 'Egypt', 'Saudi Arabia', 'Cayman Islands',\n",
       "       'Liechtenstein', 'Philippines'], dtype=object)"
      ]
     },
     "execution_count": 17,
     "metadata": {},
     "output_type": "execute_result"
    }
   ],
   "source": [
    "unicorns_df.Country.unique()"
   ]
  },
  {
   "cell_type": "markdown",
   "id": "860b95b5",
   "metadata": {
    "papermill": {
     "duration": 0.00754,
     "end_time": "2024-12-06T14:05:03.651511",
     "exception": false,
     "start_time": "2024-12-06T14:05:03.643971",
     "status": "completed"
    },
    "tags": []
   },
   "source": [
    "Description of the dataset."
   ]
  },
  {
   "cell_type": "code",
   "execution_count": 18,
   "id": "b57fe9b0",
   "metadata": {
    "execution": {
     "iopub.execute_input": "2024-12-06T14:05:03.668330Z",
     "iopub.status.busy": "2024-12-06T14:05:03.667590Z",
     "iopub.status.idle": "2024-12-06T14:05:03.683655Z",
     "shell.execute_reply": "2024-12-06T14:05:03.682729Z"
    },
    "papermill": {
     "duration": 0.02659,
     "end_time": "2024-12-06T14:05:03.685569",
     "exception": false,
     "start_time": "2024-12-06T14:05:03.658979",
     "status": "completed"
    },
    "tags": []
   },
   "outputs": [
    {
     "data": {
      "text/html": [
       "<div>\n",
       "<style scoped>\n",
       "    .dataframe tbody tr th:only-of-type {\n",
       "        vertical-align: middle;\n",
       "    }\n",
       "\n",
       "    .dataframe tbody tr th {\n",
       "        vertical-align: top;\n",
       "    }\n",
       "\n",
       "    .dataframe thead th {\n",
       "        text-align: right;\n",
       "    }\n",
       "</style>\n",
       "<table border=\"1\" class=\"dataframe\">\n",
       "  <thead>\n",
       "    <tr style=\"text-align: right;\">\n",
       "      <th></th>\n",
       "      <th>Year Joined</th>\n",
       "    </tr>\n",
       "  </thead>\n",
       "  <tbody>\n",
       "    <tr>\n",
       "      <th>count</th>\n",
       "      <td>1233.000000</td>\n",
       "    </tr>\n",
       "    <tr>\n",
       "      <th>mean</th>\n",
       "      <td>2020.433901</td>\n",
       "    </tr>\n",
       "    <tr>\n",
       "      <th>std</th>\n",
       "      <td>2.041148</td>\n",
       "    </tr>\n",
       "    <tr>\n",
       "      <th>min</th>\n",
       "      <td>2007.000000</td>\n",
       "    </tr>\n",
       "    <tr>\n",
       "      <th>25%</th>\n",
       "      <td>2020.000000</td>\n",
       "    </tr>\n",
       "    <tr>\n",
       "      <th>50%</th>\n",
       "      <td>2021.000000</td>\n",
       "    </tr>\n",
       "    <tr>\n",
       "      <th>75%</th>\n",
       "      <td>2022.000000</td>\n",
       "    </tr>\n",
       "    <tr>\n",
       "      <th>max</th>\n",
       "      <td>2024.000000</td>\n",
       "    </tr>\n",
       "  </tbody>\n",
       "</table>\n",
       "</div>"
      ],
      "text/plain": [
       "       Year Joined\n",
       "count  1233.000000\n",
       "mean   2020.433901\n",
       "std       2.041148\n",
       "min    2007.000000\n",
       "25%    2020.000000\n",
       "50%    2021.000000\n",
       "75%    2022.000000\n",
       "max    2024.000000"
      ]
     },
     "execution_count": 18,
     "metadata": {},
     "output_type": "execute_result"
    }
   ],
   "source": [
    "unicorns_df.describe()"
   ]
  },
  {
   "cell_type": "code",
   "execution_count": 19,
   "id": "80fcc05b",
   "metadata": {
    "execution": {
     "iopub.execute_input": "2024-12-06T14:05:03.703092Z",
     "iopub.status.busy": "2024-12-06T14:05:03.702013Z",
     "iopub.status.idle": "2024-12-06T14:05:03.714157Z",
     "shell.execute_reply": "2024-12-06T14:05:03.713103Z"
    },
    "papermill": {
     "duration": 0.022625,
     "end_time": "2024-12-06T14:05:03.716078",
     "exception": false,
     "start_time": "2024-12-06T14:05:03.693453",
     "status": "completed"
    },
    "tags": []
   },
   "outputs": [
    {
     "data": {
      "text/html": [
       "<div>\n",
       "<style scoped>\n",
       "    .dataframe tbody tr th:only-of-type {\n",
       "        vertical-align: middle;\n",
       "    }\n",
       "\n",
       "    .dataframe tbody tr th {\n",
       "        vertical-align: top;\n",
       "    }\n",
       "\n",
       "    .dataframe thead th {\n",
       "        text-align: right;\n",
       "    }\n",
       "</style>\n",
       "<table border=\"1\" class=\"dataframe\">\n",
       "  <thead>\n",
       "    <tr style=\"text-align: right;\">\n",
       "      <th></th>\n",
       "      <th>Company</th>\n",
       "      <th>Valuation ($B)</th>\n",
       "      <th>Country</th>\n",
       "      <th>City</th>\n",
       "      <th>Industry</th>\n",
       "      <th>Year Joined</th>\n",
       "    </tr>\n",
       "  </thead>\n",
       "  <tbody>\n",
       "    <tr>\n",
       "      <th>0</th>\n",
       "      <td>ByteDance</td>\n",
       "      <td>225</td>\n",
       "      <td>China</td>\n",
       "      <td>Beijing</td>\n",
       "      <td>Media &amp; Entertainment</td>\n",
       "      <td>2017</td>\n",
       "    </tr>\n",
       "    <tr>\n",
       "      <th>1</th>\n",
       "      <td>SpaceX</td>\n",
       "      <td>150</td>\n",
       "      <td>United States</td>\n",
       "      <td>Hawthorne</td>\n",
       "      <td>Industrials</td>\n",
       "      <td>2012</td>\n",
       "    </tr>\n",
       "    <tr>\n",
       "      <th>2</th>\n",
       "      <td>OpenAI</td>\n",
       "      <td>80</td>\n",
       "      <td>United States</td>\n",
       "      <td>San Francisco</td>\n",
       "      <td>Enterprise Tech</td>\n",
       "      <td>2019</td>\n",
       "    </tr>\n",
       "    <tr>\n",
       "      <th>3</th>\n",
       "      <td>SHEIN</td>\n",
       "      <td>66</td>\n",
       "      <td>Singapore</td>\n",
       "      <td>Singapore City</td>\n",
       "      <td>Consumer &amp; Retail</td>\n",
       "      <td>2018</td>\n",
       "    </tr>\n",
       "    <tr>\n",
       "      <th>4</th>\n",
       "      <td>Stripe</td>\n",
       "      <td>65</td>\n",
       "      <td>United States</td>\n",
       "      <td>San Francisco</td>\n",
       "      <td>Financial Services</td>\n",
       "      <td>2014</td>\n",
       "    </tr>\n",
       "    <tr>\n",
       "      <th>5</th>\n",
       "      <td>Databricks</td>\n",
       "      <td>43</td>\n",
       "      <td>United States</td>\n",
       "      <td>San Francisco</td>\n",
       "      <td>Enterprise Tech</td>\n",
       "      <td>2019</td>\n",
       "    </tr>\n",
       "    <tr>\n",
       "      <th>6</th>\n",
       "      <td>Canva</td>\n",
       "      <td>25.4</td>\n",
       "      <td>Australia</td>\n",
       "      <td>Surry Hills</td>\n",
       "      <td>Enterprise Tech</td>\n",
       "      <td>2018</td>\n",
       "    </tr>\n",
       "    <tr>\n",
       "      <th>7</th>\n",
       "      <td>Revolut</td>\n",
       "      <td>33</td>\n",
       "      <td>United Kingdom</td>\n",
       "      <td>London</td>\n",
       "      <td>Financial Services</td>\n",
       "      <td>2018</td>\n",
       "    </tr>\n",
       "    <tr>\n",
       "      <th>8</th>\n",
       "      <td>Epic Games</td>\n",
       "      <td>22.5</td>\n",
       "      <td>United States</td>\n",
       "      <td>Cary</td>\n",
       "      <td>Media &amp; Entertainment</td>\n",
       "      <td>2018</td>\n",
       "    </tr>\n",
       "    <tr>\n",
       "      <th>9</th>\n",
       "      <td>Fanatics</td>\n",
       "      <td>31</td>\n",
       "      <td>United States</td>\n",
       "      <td>Jacksonville</td>\n",
       "      <td>Consumer &amp; Retail</td>\n",
       "      <td>2012</td>\n",
       "    </tr>\n",
       "  </tbody>\n",
       "</table>\n",
       "</div>"
      ],
      "text/plain": [
       "      Company Valuation ($B)         Country            City  \\\n",
       "0   ByteDance            225           China         Beijing   \n",
       "1      SpaceX            150   United States       Hawthorne   \n",
       "2      OpenAI             80   United States   San Francisco   \n",
       "3       SHEIN             66       Singapore  Singapore City   \n",
       "4      Stripe             65   United States   San Francisco   \n",
       "5  Databricks             43   United States   San Francisco   \n",
       "6       Canva           25.4       Australia     Surry Hills   \n",
       "7     Revolut             33  United Kingdom          London   \n",
       "8  Epic Games           22.5   United States            Cary   \n",
       "9    Fanatics             31   United States    Jacksonville   \n",
       "\n",
       "                Industry  Year Joined  \n",
       "0  Media & Entertainment         2017  \n",
       "1            Industrials         2012  \n",
       "2        Enterprise Tech         2019  \n",
       "3      Consumer & Retail         2018  \n",
       "4     Financial Services         2014  \n",
       "5        Enterprise Tech         2019  \n",
       "6        Enterprise Tech         2018  \n",
       "7     Financial Services         2018  \n",
       "8  Media & Entertainment         2018  \n",
       "9      Consumer & Retail         2012  "
      ]
     },
     "execution_count": 19,
     "metadata": {},
     "output_type": "execute_result"
    }
   ],
   "source": [
    "unicorns_df.head(10)"
   ]
  },
  {
   "cell_type": "markdown",
   "id": "f6562626",
   "metadata": {
    "papermill": {
     "duration": 0.007651,
     "end_time": "2024-12-06T14:05:03.731790",
     "exception": false,
     "start_time": "2024-12-06T14:05:03.724139",
     "status": "completed"
    },
    "tags": []
   },
   "source": [
    "## Data visualization"
   ]
  },
  {
   "cell_type": "code",
   "execution_count": 20,
   "id": "4acadf65",
   "metadata": {
    "execution": {
     "iopub.execute_input": "2024-12-06T14:05:03.749274Z",
     "iopub.status.busy": "2024-12-06T14:05:03.748506Z",
     "iopub.status.idle": "2024-12-06T14:05:03.756519Z",
     "shell.execute_reply": "2024-12-06T14:05:03.755493Z"
    },
    "papermill": {
     "duration": 0.018923,
     "end_time": "2024-12-06T14:05:03.758488",
     "exception": false,
     "start_time": "2024-12-06T14:05:03.739565",
     "status": "completed"
    },
    "tags": []
   },
   "outputs": [
    {
     "data": {
      "text/plain": [
       "Country\n",
       "United States     656\n",
       "China             168\n",
       "India              71\n",
       "United Kingdom     54\n",
       "Germany            31\n",
       "France             26\n",
       "Israel             25\n",
       "Canada             21\n",
       "Brazil             17\n",
       "Singapore          17\n",
       "Name: count, dtype: int64"
      ]
     },
     "execution_count": 20,
     "metadata": {},
     "output_type": "execute_result"
    }
   ],
   "source": [
    "top_countries = unicorns_df.Country.value_counts().head(10)\n",
    "top_countries"
   ]
  },
  {
   "cell_type": "code",
   "execution_count": 21,
   "id": "54b38667",
   "metadata": {
    "execution": {
     "iopub.execute_input": "2024-12-06T14:05:03.776047Z",
     "iopub.status.busy": "2024-12-06T14:05:03.775691Z",
     "iopub.status.idle": "2024-12-06T14:05:04.126514Z",
     "shell.execute_reply": "2024-12-06T14:05:04.125542Z"
    },
    "papermill": {
     "duration": 0.361891,
     "end_time": "2024-12-06T14:05:04.128551",
     "exception": false,
     "start_time": "2024-12-06T14:05:03.766660",
     "status": "completed"
    },
    "tags": []
   },
   "outputs": [
    {
     "data": {
      "text/plain": [
       "(array([0, 1, 2, 3, 4, 5, 6, 7, 8, 9]),\n",
       " [Text(0, 0, 'United States'),\n",
       "  Text(1, 0, 'China'),\n",
       "  Text(2, 0, 'India'),\n",
       "  Text(3, 0, 'United Kingdom'),\n",
       "  Text(4, 0, 'Germany'),\n",
       "  Text(5, 0, 'France'),\n",
       "  Text(6, 0, 'Israel'),\n",
       "  Text(7, 0, 'Canada'),\n",
       "  Text(8, 0, 'Brazil'),\n",
       "  Text(9, 0, 'Singapore')])"
      ]
     },
     "execution_count": 21,
     "metadata": {},
     "output_type": "execute_result"
    },
    {
     "data": {
      "image/png": "[encoded data removed]",
      "text/plain": [
       "<Figure size 1200x500 with 1 Axes>"
      ]
     },
     "metadata": {},
     "output_type": "display_data"
    }
   ],
   "source": [
    "plt.figure(figsize=(12,5))\n",
    "plt.title(\"Top countries\")\n",
    "plt.ylabel(\"Number of companies\")\n",
    "plt.xlabel(\"Countries\")\n",
    "sns.barplot(x=top_countries.index, y=top_countries.values);\n",
    "plt.xticks(rotation=75)"
   ]
  },
  {
   "cell_type": "code",
   "execution_count": 22,
   "id": "6bd69bb8",
   "metadata": {
    "execution": {
     "iopub.execute_input": "2024-12-06T14:05:04.148084Z",
     "iopub.status.busy": "2024-12-06T14:05:04.147723Z",
     "iopub.status.idle": "2024-12-06T14:05:04.155570Z",
     "shell.execute_reply": "2024-12-06T14:05:04.154663Z"
    },
    "papermill": {
     "duration": 0.019568,
     "end_time": "2024-12-06T14:05:04.157338",
     "exception": false,
     "start_time": "2024-12-06T14:05:04.137770",
     "status": "completed"
    },
    "tags": []
   },
   "outputs": [
    {
     "data": {
      "text/plain": [
       "Industry\n",
       "Enterprise Tech               388\n",
       "Financial Services            220\n",
       "Consumer & Retail             213\n",
       "Industrials                   185\n",
       "Healthcare & Life Sciences    117\n",
       "Media & Entertainment          83\n",
       "Insurance                      26\n",
       "Health                          1\n",
       "Name: count, dtype: int64"
      ]
     },
     "execution_count": 22,
     "metadata": {},
     "output_type": "execute_result"
    }
   ],
   "source": [
    "industry_count = unicorns_df['Industry'].value_counts()\n",
    "industry_count"
   ]
  },
  {
   "cell_type": "code",
   "execution_count": 23,
   "id": "0d34f1dc",
   "metadata": {
    "execution": {
     "iopub.execute_input": "2024-12-06T14:05:04.177002Z",
     "iopub.status.busy": "2024-12-06T14:05:04.176654Z",
     "iopub.status.idle": "2024-12-06T14:05:04.510720Z",
     "shell.execute_reply": "2024-12-06T14:05:04.509674Z"
    },
    "papermill": {
     "duration": 0.346302,
     "end_time": "2024-12-06T14:05:04.512962",
     "exception": false,
     "start_time": "2024-12-06T14:05:04.166660",
     "status": "completed"
    },
    "tags": []
   },
   "outputs": [
    {
     "data": {
      "text/plain": [
       "(array([0, 1, 2, 3, 4, 5, 6, 7]),\n",
       " [Text(0, 0, 'Enterprise Tech'),\n",
       "  Text(1, 0, 'Financial Services'),\n",
       "  Text(2, 0, 'Consumer & Retail'),\n",
       "  Text(3, 0, 'Industrials'),\n",
       "  Text(4, 0, 'Healthcare & Life Sciences'),\n",
       "  Text(5, 0, 'Media & Entertainment'),\n",
       "  Text(6, 0, 'Insurance'),\n",
       "  Text(7, 0, 'Health')])"
      ]
     },
     "execution_count": 23,
     "metadata": {},
     "output_type": "execute_result"
    },
    {
     "data": {
      "image/png": "[encoded data removed]",
      "text/plain": [
       "<Figure size 1200x500 with 1 Axes>"
      ]
     },
     "metadata": {},
     "output_type": "display_data"
    }
   ],
   "source": [
    "plt.figure(figsize=(12,5))\n",
    "plt.title('Most chosen industry')\n",
    "plt.ylabel(\"Number of companies\")\n",
    "plt.xlabel(\"Industries\")\n",
    "sns.barplot(x=industry_count.index, y=industry_count.values);\n",
    "plt.xticks(rotation=50)"
   ]
  },
  {
   "cell_type": "code",
   "execution_count": 24,
   "id": "e3cc4f17",
   "metadata": {
    "execution": {
     "iopub.execute_input": "2024-12-06T14:05:04.534451Z",
     "iopub.status.busy": "2024-12-06T14:05:04.533953Z",
     "iopub.status.idle": "2024-12-06T14:05:04.542547Z",
     "shell.execute_reply": "2024-12-06T14:05:04.541558Z"
    },
    "papermill": {
     "duration": 0.021432,
     "end_time": "2024-12-06T14:05:04.544439",
     "exception": false,
     "start_time": "2024-12-06T14:05:04.523007",
     "status": "completed"
    },
    "tags": []
   },
   "outputs": [
    {
     "data": {
      "text/plain": [
       "City\n",
       "San Francisco    172\n",
       "New York         116\n",
       "Beijing           64\n",
       "London            42\n",
       "Shanghai          38\n",
       "Bengaluru         32\n",
       "Palo Alto         22\n",
       "Paris             21\n",
       "Boston            19\n",
       "Berlin            18\n",
       "Name: count, dtype: int64"
      ]
     },
     "execution_count": 24,
     "metadata": {},
     "output_type": "execute_result"
    }
   ],
   "source": [
    "highest_no_of_unicorns = unicorns_df['City'].value_counts().head(10)\n",
    "highest_no_of_unicorns"
   ]
  },
  {
   "cell_type": "code",
   "execution_count": 25,
   "id": "c32a886e",
   "metadata": {
    "execution": {
     "iopub.execute_input": "2024-12-06T14:05:04.566339Z",
     "iopub.status.busy": "2024-12-06T14:05:04.565668Z",
     "iopub.status.idle": "2024-12-06T14:05:04.900914Z",
     "shell.execute_reply": "2024-12-06T14:05:04.899860Z"
    },
    "papermill": {
     "duration": 0.348434,
     "end_time": "2024-12-06T14:05:04.902895",
     "exception": false,
     "start_time": "2024-12-06T14:05:04.554461",
     "status": "completed"
    },
    "tags": []
   },
   "outputs": [
    {
     "data": {
      "text/plain": [
       "(array([0, 1, 2, 3, 4, 5, 6, 7, 8, 9]),\n",
       " [Text(0, 0, 'San Francisco'),\n",
       "  Text(1, 0, 'New York'),\n",
       "  Text(2, 0, 'Beijing'),\n",
       "  Text(3, 0, 'London'),\n",
       "  Text(4, 0, 'Shanghai'),\n",
       "  Text(5, 0, 'Bengaluru'),\n",
       "  Text(6, 0, 'Palo Alto'),\n",
       "  Text(7, 0, 'Paris'),\n",
       "  Text(8, 0, 'Boston'),\n",
       "  Text(9, 0, 'Berlin')])"
      ]
     },
     "execution_count": 25,
     "metadata": {},
     "output_type": "execute_result"
    },
    {
     "data": {
      "image/png": "[encoded data removed]",
      "text/plain": [
       "<Figure size 1200x500 with 1 Axes>"
      ]
     },
     "metadata": {},
     "output_type": "display_data"
    }
   ],
   "source": [
    "plt.figure(figsize=(12,5))\n",
    "plt.title(\"Citites with most unicorns\")\n",
    "plt.ylabel(\"Number of companies\")\n",
    "plt.xlabel(\"Cities\")\n",
    "sns.barplot(x=highest_no_of_unicorns.index, y=highest_no_of_unicorns.values);\n",
    "plt.xticks(rotation=50)"
   ]
  },
  {
   "cell_type": "code",
   "execution_count": 26,
   "id": "0252fdfb",
   "metadata": {
    "execution": {
     "iopub.execute_input": "2024-12-06T14:05:04.926373Z",
     "iopub.status.busy": "2024-12-06T14:05:04.925619Z",
     "iopub.status.idle": "2024-12-06T14:05:04.934781Z",
     "shell.execute_reply": "2024-12-06T14:05:04.933823Z"
    },
    "papermill": {
     "duration": 0.0231,
     "end_time": "2024-12-06T14:05:04.936774",
     "exception": false,
     "start_time": "2024-12-06T14:05:04.913674",
     "status": "completed"
    },
    "tags": []
   },
   "outputs": [
    {
     "data": {
      "text/plain": [
       "Year Joined\n",
       "2021    503\n",
       "2022    254\n",
       "2020     97\n",
       "2019     93\n",
       "2018     90\n",
       "2023     69\n",
       "2017     38\n",
       "2015     33\n",
       "2024     19\n",
       "2016     18\n",
       "Name: count, dtype: int64"
      ]
     },
     "execution_count": 26,
     "metadata": {},
     "output_type": "execute_result"
    }
   ],
   "source": [
    "year_joined = unicorns_df['Year Joined'].value_counts().head(10)\n",
    "year_joined"
   ]
  },
  {
   "cell_type": "code",
   "execution_count": 27,
   "id": "859dd646",
   "metadata": {
    "execution": {
     "iopub.execute_input": "2024-12-06T14:05:04.959836Z",
     "iopub.status.busy": "2024-12-06T14:05:04.959459Z",
     "iopub.status.idle": "2024-12-06T14:05:05.215652Z",
     "shell.execute_reply": "2024-12-06T14:05:05.214601Z"
    },
    "papermill": {
     "duration": 0.270036,
     "end_time": "2024-12-06T14:05:05.217683",
     "exception": false,
     "start_time": "2024-12-06T14:05:04.947647",
     "status": "completed"
    },
    "tags": []
   },
   "outputs": [
    {
     "data": {
      "text/plain": [
       "<Axes: title={'center': 'Year in which most unicorns joined'}, xlabel='Year Joined', ylabel='Number of companies'>"
      ]
     },
     "execution_count": 27,
     "metadata": {},
     "output_type": "execute_result"
    },
    {
     "data": {
      "image/png": "[encoded data removed]",
      "text/plain": [
       "<Figure size 1200x500 with 1 Axes>"
      ]
     },
     "metadata": {},
     "output_type": "display_data"
    }
   ],
   "source": [
    "plt.figure(figsize=(12,5))\n",
    "plt.title('Year in which most unicorns joined')\n",
    "plt.ylabel(\"Number of companies\")\n",
    "plt.xlabel(\"Years\")\n",
    "sns.barplot(x=year_joined.index, y=year_joined.values)"
   ]
  },
  {
   "cell_type": "code",
   "execution_count": null,
   "id": "f2be7bc0",
   "metadata": {
    "papermill": {
     "duration": 0.011419,
     "end_time": "2024-12-06T14:05:05.240581",
     "exception": false,
     "start_time": "2024-12-06T14:05:05.229162",
     "status": "completed"
    },
    "tags": []
   },
   "outputs": [],
   "source": []
  }
 ],
 "metadata": {
  "kaggle": {
   "accelerator": "none",
   "dataSources": [
    {
     "datasetId": 4726559,
     "sourceId": 8021189,
     "sourceType": "datasetVersion"
    }
   ],
   "dockerImageVersionId": 30786,
   "isGpuEnabled": false,
   "isInternetEnabled": false,
   "language": "python",
   "sourceType": "notebook"
  },
  "kernelspec": {
   "display_name": "Python 3",
   "language": "python",
   "name": "python3"
  },
  "language_info": {
   "codemirror_mode": {
    "name": "ipython",
    "version": 3
   },
   "file_extension": ".py",
   "mimetype": "text/x-python",
   "name": "python",
   "nbconvert_exporter": "python",
   "pygments_lexer": "ipython3",
   "version": "3.10.14"
  },
  "papermill": {
   "default_parameters": {},
   "duration": 7.674361,
   "end_time": "2024-12-06T14:05:05.774299",
   "environment_variables": {},
   "exception": null,
   "input_path": "__notebook__.ipynb",
   "output_path": "__notebook__.ipynb",
   "parameters": {},
   "start_time": "2024-12-06T14:04:58.099938",
   "version": "2.6.0"
  }
 },
 "nbformat": 4,
 "nbformat_minor": 5
}
