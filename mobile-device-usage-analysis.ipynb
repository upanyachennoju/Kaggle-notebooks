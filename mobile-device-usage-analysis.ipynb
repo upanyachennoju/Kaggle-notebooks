{
 "cells": [
  {
   "cell_type": "code",
   "execution_count": 1,
   "id": "2246d7dd",
   "metadata": {
    "_cell_guid": "b1076dfc-b9ad-4769-8c92-a6c4dae69d19",
    "_uuid": "8f2839f25d086af736a60e9eeb907d3b93b6e0e5",
    "execution": {
     "iopub.execute_input": "2024-12-04T04:37:08.090858Z",
     "iopub.status.busy": "2024-12-04T04:37:08.090477Z",
     "iopub.status.idle": "2024-12-04T04:37:10.641176Z",
     "shell.execute_reply": "2024-12-04T04:37:10.640219Z"
    },
    "papermill": {
     "duration": 2.560254,
     "end_time": "2024-12-04T04:37:10.643678",
     "exception": false,
     "start_time": "2024-12-04T04:37:08.083424",
     "status": "completed"
    },
    "tags": []
   },
   "outputs": [],
   "source": [
    "import numpy as np\n",
    "import pandas as pd\n",
    "import matplotlib.pyplot as plt\n",
    "import seaborn as sns"
   ]
  },
  {
   "cell_type": "code",
   "execution_count": 2,
   "id": "5e84d090",
   "metadata": {
    "execution": {
     "iopub.execute_input": "2024-12-04T04:37:10.656775Z",
     "iopub.status.busy": "2024-12-04T04:37:10.655644Z",
     "iopub.status.idle": "2024-12-04T04:37:10.700595Z",
     "shell.execute_reply": "2024-12-04T04:37:10.699603Z"
    },
    "papermill": {
     "duration": 0.053782,
     "end_time": "2024-12-04T04:37:10.702855",
     "exception": false,
     "start_time": "2024-12-04T04:37:10.649073",
     "status": "completed"
    },
    "tags": []
   },
   "outputs": [
    {
     "data": {
      "text/html": [
       "<div>\n",
       "<style scoped>\n",
       "    .dataframe tbody tr th:only-of-type {\n",
       "        vertical-align: middle;\n",
       "    }\n",
       "\n",
       "    .dataframe tbody tr th {\n",
       "        vertical-align: top;\n",
       "    }\n",
       "\n",
       "    .dataframe thead th {\n",
       "        text-align: right;\n",
       "    }\n",
       "</style>\n",
       "<table border=\"1\" class=\"dataframe\">\n",
       "  <thead>\n",
       "    <tr style=\"text-align: right;\">\n",
       "      <th></th>\n",
       "      <th>User ID</th>\n",
       "      <th>Device Model</th>\n",
       "      <th>Operating System</th>\n",
       "      <th>App Usage Time (min/day)</th>\n",
       "      <th>Screen On Time (hours/day)</th>\n",
       "      <th>Battery Drain (mAh/day)</th>\n",
       "      <th>Number of Apps Installed</th>\n",
       "      <th>Data Usage (MB/day)</th>\n",
       "      <th>Age</th>\n",
       "      <th>Gender</th>\n",
       "      <th>User Behavior Class</th>\n",
       "    </tr>\n",
       "  </thead>\n",
       "  <tbody>\n",
       "    <tr>\n",
       "      <th>0</th>\n",
       "      <td>1</td>\n",
       "      <td>Google Pixel 5</td>\n",
       "      <td>Android</td>\n",
       "      <td>393</td>\n",
       "      <td>6.4</td>\n",
       "      <td>1872</td>\n",
       "      <td>67</td>\n",
       "      <td>1122</td>\n",
       "      <td>40</td>\n",
       "      <td>Male</td>\n",
       "      <td>4</td>\n",
       "    </tr>\n",
       "    <tr>\n",
       "      <th>1</th>\n",
       "      <td>2</td>\n",
       "      <td>OnePlus 9</td>\n",
       "      <td>Android</td>\n",
       "      <td>268</td>\n",
       "      <td>4.7</td>\n",
       "      <td>1331</td>\n",
       "      <td>42</td>\n",
       "      <td>944</td>\n",
       "      <td>47</td>\n",
       "      <td>Female</td>\n",
       "      <td>3</td>\n",
       "    </tr>\n",
       "    <tr>\n",
       "      <th>2</th>\n",
       "      <td>3</td>\n",
       "      <td>Xiaomi Mi 11</td>\n",
       "      <td>Android</td>\n",
       "      <td>154</td>\n",
       "      <td>4.0</td>\n",
       "      <td>761</td>\n",
       "      <td>32</td>\n",
       "      <td>322</td>\n",
       "      <td>42</td>\n",
       "      <td>Male</td>\n",
       "      <td>2</td>\n",
       "    </tr>\n",
       "    <tr>\n",
       "      <th>3</th>\n",
       "      <td>4</td>\n",
       "      <td>Google Pixel 5</td>\n",
       "      <td>Android</td>\n",
       "      <td>239</td>\n",
       "      <td>4.8</td>\n",
       "      <td>1676</td>\n",
       "      <td>56</td>\n",
       "      <td>871</td>\n",
       "      <td>20</td>\n",
       "      <td>Male</td>\n",
       "      <td>3</td>\n",
       "    </tr>\n",
       "    <tr>\n",
       "      <th>4</th>\n",
       "      <td>5</td>\n",
       "      <td>iPhone 12</td>\n",
       "      <td>iOS</td>\n",
       "      <td>187</td>\n",
       "      <td>4.3</td>\n",
       "      <td>1367</td>\n",
       "      <td>58</td>\n",
       "      <td>988</td>\n",
       "      <td>31</td>\n",
       "      <td>Female</td>\n",
       "      <td>3</td>\n",
       "    </tr>\n",
       "    <tr>\n",
       "      <th>...</th>\n",
       "      <td>...</td>\n",
       "      <td>...</td>\n",
       "      <td>...</td>\n",
       "      <td>...</td>\n",
       "      <td>...</td>\n",
       "      <td>...</td>\n",
       "      <td>...</td>\n",
       "      <td>...</td>\n",
       "      <td>...</td>\n",
       "      <td>...</td>\n",
       "      <td>...</td>\n",
       "    </tr>\n",
       "    <tr>\n",
       "      <th>695</th>\n",
       "      <td>696</td>\n",
       "      <td>iPhone 12</td>\n",
       "      <td>iOS</td>\n",
       "      <td>92</td>\n",
       "      <td>3.9</td>\n",
       "      <td>1082</td>\n",
       "      <td>26</td>\n",
       "      <td>381</td>\n",
       "      <td>22</td>\n",
       "      <td>Male</td>\n",
       "      <td>2</td>\n",
       "    </tr>\n",
       "    <tr>\n",
       "      <th>696</th>\n",
       "      <td>697</td>\n",
       "      <td>Xiaomi Mi 11</td>\n",
       "      <td>Android</td>\n",
       "      <td>316</td>\n",
       "      <td>6.8</td>\n",
       "      <td>1965</td>\n",
       "      <td>68</td>\n",
       "      <td>1201</td>\n",
       "      <td>59</td>\n",
       "      <td>Male</td>\n",
       "      <td>4</td>\n",
       "    </tr>\n",
       "    <tr>\n",
       "      <th>697</th>\n",
       "      <td>698</td>\n",
       "      <td>Google Pixel 5</td>\n",
       "      <td>Android</td>\n",
       "      <td>99</td>\n",
       "      <td>3.1</td>\n",
       "      <td>942</td>\n",
       "      <td>22</td>\n",
       "      <td>457</td>\n",
       "      <td>50</td>\n",
       "      <td>Female</td>\n",
       "      <td>2</td>\n",
       "    </tr>\n",
       "    <tr>\n",
       "      <th>698</th>\n",
       "      <td>699</td>\n",
       "      <td>Samsung Galaxy S21</td>\n",
       "      <td>Android</td>\n",
       "      <td>62</td>\n",
       "      <td>1.7</td>\n",
       "      <td>431</td>\n",
       "      <td>13</td>\n",
       "      <td>224</td>\n",
       "      <td>44</td>\n",
       "      <td>Male</td>\n",
       "      <td>1</td>\n",
       "    </tr>\n",
       "    <tr>\n",
       "      <th>699</th>\n",
       "      <td>700</td>\n",
       "      <td>OnePlus 9</td>\n",
       "      <td>Android</td>\n",
       "      <td>212</td>\n",
       "      <td>5.4</td>\n",
       "      <td>1306</td>\n",
       "      <td>49</td>\n",
       "      <td>828</td>\n",
       "      <td>23</td>\n",
       "      <td>Female</td>\n",
       "      <td>3</td>\n",
       "    </tr>\n",
       "  </tbody>\n",
       "</table>\n",
       "<p>700 rows × 11 columns</p>\n",
       "</div>"
      ],
      "text/plain": [
       "     User ID        Device Model Operating System  App Usage Time (min/day)  \\\n",
       "0          1      Google Pixel 5          Android                       393   \n",
       "1          2           OnePlus 9          Android                       268   \n",
       "2          3        Xiaomi Mi 11          Android                       154   \n",
       "3          4      Google Pixel 5          Android                       239   \n",
       "4          5           iPhone 12              iOS                       187   \n",
       "..       ...                 ...              ...                       ...   \n",
       "695      696           iPhone 12              iOS                        92   \n",
       "696      697        Xiaomi Mi 11          Android                       316   \n",
       "697      698      Google Pixel 5          Android                        99   \n",
       "698      699  Samsung Galaxy S21          Android                        62   \n",
       "699      700           OnePlus 9          Android                       212   \n",
       "\n",
       "     Screen On Time (hours/day)  Battery Drain (mAh/day)  \\\n",
       "0                           6.4                     1872   \n",
       "1                           4.7                     1331   \n",
       "2                           4.0                      761   \n",
       "3                           4.8                     1676   \n",
       "4                           4.3                     1367   \n",
       "..                          ...                      ...   \n",
       "695                         3.9                     1082   \n",
       "696                         6.8                     1965   \n",
       "697                         3.1                      942   \n",
       "698                         1.7                      431   \n",
       "699                         5.4                     1306   \n",
       "\n",
       "     Number of Apps Installed  Data Usage (MB/day)  Age  Gender  \\\n",
       "0                          67                 1122   40    Male   \n",
       "1                          42                  944   47  Female   \n",
       "2                          32                  322   42    Male   \n",
       "3                          56                  871   20    Male   \n",
       "4                          58                  988   31  Female   \n",
       "..                        ...                  ...  ...     ...   \n",
       "695                        26                  381   22    Male   \n",
       "696                        68                 1201   59    Male   \n",
       "697                        22                  457   50  Female   \n",
       "698                        13                  224   44    Male   \n",
       "699                        49                  828   23  Female   \n",
       "\n",
       "     User Behavior Class  \n",
       "0                      4  \n",
       "1                      3  \n",
       "2                      2  \n",
       "3                      3  \n",
       "4                      3  \n",
       "..                   ...  \n",
       "695                    2  \n",
       "696                    4  \n",
       "697                    2  \n",
       "698                    1  \n",
       "699                    3  \n",
       "\n",
       "[700 rows x 11 columns]"
      ]
     },
     "execution_count": 2,
     "metadata": {},
     "output_type": "execute_result"
    }
   ],
   "source": [
    "df = pd.read_csv(\"/kaggle/input/mobile-device-usage-and-user-behavior-dataset/user_behavior_dataset.csv\")\n",
    "df"
   ]
  },
  {
   "cell_type": "code",
   "execution_count": 3,
   "id": "eacf889a",
   "metadata": {
    "execution": {
     "iopub.execute_input": "2024-12-04T04:37:10.717123Z",
     "iopub.status.busy": "2024-12-04T04:37:10.716234Z",
     "iopub.status.idle": "2024-12-04T04:37:10.722939Z",
     "shell.execute_reply": "2024-12-04T04:37:10.721977Z"
    },
    "papermill": {
     "duration": 0.016493,
     "end_time": "2024-12-04T04:37:10.725025",
     "exception": false,
     "start_time": "2024-12-04T04:37:10.708532",
     "status": "completed"
    },
    "tags": []
   },
   "outputs": [
    {
     "data": {
      "text/plain": [
       "Index(['User ID', 'Device Model', 'Operating System',\n",
       "       'App Usage Time (min/day)', 'Screen On Time (hours/day)',\n",
       "       'Battery Drain (mAh/day)', 'Number of Apps Installed',\n",
       "       'Data Usage (MB/day)', 'Age', 'Gender', 'User Behavior Class'],\n",
       "      dtype='object')"
      ]
     },
     "execution_count": 3,
     "metadata": {},
     "output_type": "execute_result"
    }
   ],
   "source": [
    "df.columns"
   ]
  },
  {
   "cell_type": "code",
   "execution_count": 4,
   "id": "5a478308",
   "metadata": {
    "execution": {
     "iopub.execute_input": "2024-12-04T04:37:10.738354Z",
     "iopub.status.busy": "2024-12-04T04:37:10.737609Z",
     "iopub.status.idle": "2024-12-04T04:37:10.742727Z",
     "shell.execute_reply": "2024-12-04T04:37:10.741707Z"
    },
    "papermill": {
     "duration": 0.014378,
     "end_time": "2024-12-04T04:37:10.745126",
     "exception": false,
     "start_time": "2024-12-04T04:37:10.730748",
     "status": "completed"
    },
    "tags": []
   },
   "outputs": [],
   "source": [
    "df.columns = ['UserID', 'DeviceModel', 'OperatingSystem',\n",
    "       'AppUsageTime(min/day)', 'ScreenTime(hours/day)',\n",
    "       'BatteryDrain(mAh/day)', 'NumberOfAppsInstalled',\n",
    "       'DataUsage(MB/day)', 'Age', 'Gender', 'UserBehaviorClass']"
   ]
  },
  {
   "cell_type": "code",
   "execution_count": 5,
   "id": "488c633c",
   "metadata": {
    "execution": {
     "iopub.execute_input": "2024-12-04T04:37:10.758596Z",
     "iopub.status.busy": "2024-12-04T04:37:10.757837Z",
     "iopub.status.idle": "2024-12-04T04:37:10.764358Z",
     "shell.execute_reply": "2024-12-04T04:37:10.763363Z"
    },
    "papermill": {
     "duration": 0.015341,
     "end_time": "2024-12-04T04:37:10.766365",
     "exception": false,
     "start_time": "2024-12-04T04:37:10.751024",
     "status": "completed"
    },
    "tags": []
   },
   "outputs": [
    {
     "data": {
      "text/plain": [
       "Index(['UserID', 'DeviceModel', 'OperatingSystem', 'AppUsageTime(min/day)',\n",
       "       'ScreenTime(hours/day)', 'BatteryDrain(mAh/day)',\n",
       "       'NumberOfAppsInstalled', 'DataUsage(MB/day)', 'Age', 'Gender',\n",
       "       'UserBehaviorClass'],\n",
       "      dtype='object')"
      ]
     },
     "execution_count": 5,
     "metadata": {},
     "output_type": "execute_result"
    }
   ],
   "source": [
    "df.columns"
   ]
  },
  {
   "cell_type": "code",
   "execution_count": 6,
   "id": "24590c1e",
   "metadata": {
    "execution": {
     "iopub.execute_input": "2024-12-04T04:37:10.779347Z",
     "iopub.status.busy": "2024-12-04T04:37:10.778938Z",
     "iopub.status.idle": "2024-12-04T04:37:10.810815Z",
     "shell.execute_reply": "2024-12-04T04:37:10.809714Z"
    },
    "papermill": {
     "duration": 0.041009,
     "end_time": "2024-12-04T04:37:10.813136",
     "exception": false,
     "start_time": "2024-12-04T04:37:10.772127",
     "status": "completed"
    },
    "tags": []
   },
   "outputs": [
    {
     "data": {
      "text/html": [
       "<div>\n",
       "<style scoped>\n",
       "    .dataframe tbody tr th:only-of-type {\n",
       "        vertical-align: middle;\n",
       "    }\n",
       "\n",
       "    .dataframe tbody tr th {\n",
       "        vertical-align: top;\n",
       "    }\n",
       "\n",
       "    .dataframe thead th {\n",
       "        text-align: right;\n",
       "    }\n",
       "</style>\n",
       "<table border=\"1\" class=\"dataframe\">\n",
       "  <thead>\n",
       "    <tr style=\"text-align: right;\">\n",
       "      <th></th>\n",
       "      <th>UserID</th>\n",
       "      <th>AppUsageTime(min/day)</th>\n",
       "      <th>ScreenTime(hours/day)</th>\n",
       "      <th>BatteryDrain(mAh/day)</th>\n",
       "      <th>NumberOfAppsInstalled</th>\n",
       "      <th>DataUsage(MB/day)</th>\n",
       "      <th>Age</th>\n",
       "      <th>UserBehaviorClass</th>\n",
       "    </tr>\n",
       "  </thead>\n",
       "  <tbody>\n",
       "    <tr>\n",
       "      <th>count</th>\n",
       "      <td>700.00000</td>\n",
       "      <td>700.000000</td>\n",
       "      <td>700.000000</td>\n",
       "      <td>700.000000</td>\n",
       "      <td>700.000000</td>\n",
       "      <td>700.000000</td>\n",
       "      <td>700.000000</td>\n",
       "      <td>700.000000</td>\n",
       "    </tr>\n",
       "    <tr>\n",
       "      <th>mean</th>\n",
       "      <td>350.50000</td>\n",
       "      <td>271.128571</td>\n",
       "      <td>5.272714</td>\n",
       "      <td>1525.158571</td>\n",
       "      <td>50.681429</td>\n",
       "      <td>929.742857</td>\n",
       "      <td>38.482857</td>\n",
       "      <td>2.990000</td>\n",
       "    </tr>\n",
       "    <tr>\n",
       "      <th>std</th>\n",
       "      <td>202.21688</td>\n",
       "      <td>177.199484</td>\n",
       "      <td>3.068584</td>\n",
       "      <td>819.136414</td>\n",
       "      <td>26.943324</td>\n",
       "      <td>640.451729</td>\n",
       "      <td>12.012916</td>\n",
       "      <td>1.401476</td>\n",
       "    </tr>\n",
       "    <tr>\n",
       "      <th>min</th>\n",
       "      <td>1.00000</td>\n",
       "      <td>30.000000</td>\n",
       "      <td>1.000000</td>\n",
       "      <td>302.000000</td>\n",
       "      <td>10.000000</td>\n",
       "      <td>102.000000</td>\n",
       "      <td>18.000000</td>\n",
       "      <td>1.000000</td>\n",
       "    </tr>\n",
       "    <tr>\n",
       "      <th>25%</th>\n",
       "      <td>175.75000</td>\n",
       "      <td>113.250000</td>\n",
       "      <td>2.500000</td>\n",
       "      <td>722.250000</td>\n",
       "      <td>26.000000</td>\n",
       "      <td>373.000000</td>\n",
       "      <td>28.000000</td>\n",
       "      <td>2.000000</td>\n",
       "    </tr>\n",
       "    <tr>\n",
       "      <th>50%</th>\n",
       "      <td>350.50000</td>\n",
       "      <td>227.500000</td>\n",
       "      <td>4.900000</td>\n",
       "      <td>1502.500000</td>\n",
       "      <td>49.000000</td>\n",
       "      <td>823.500000</td>\n",
       "      <td>38.000000</td>\n",
       "      <td>3.000000</td>\n",
       "    </tr>\n",
       "    <tr>\n",
       "      <th>75%</th>\n",
       "      <td>525.25000</td>\n",
       "      <td>434.250000</td>\n",
       "      <td>7.400000</td>\n",
       "      <td>2229.500000</td>\n",
       "      <td>74.000000</td>\n",
       "      <td>1341.000000</td>\n",
       "      <td>49.000000</td>\n",
       "      <td>4.000000</td>\n",
       "    </tr>\n",
       "    <tr>\n",
       "      <th>max</th>\n",
       "      <td>700.00000</td>\n",
       "      <td>598.000000</td>\n",
       "      <td>12.000000</td>\n",
       "      <td>2993.000000</td>\n",
       "      <td>99.000000</td>\n",
       "      <td>2497.000000</td>\n",
       "      <td>59.000000</td>\n",
       "      <td>5.000000</td>\n",
       "    </tr>\n",
       "  </tbody>\n",
       "</table>\n",
       "</div>"
      ],
      "text/plain": [
       "          UserID  AppUsageTime(min/day)  ScreenTime(hours/day)  \\\n",
       "count  700.00000             700.000000             700.000000   \n",
       "mean   350.50000             271.128571               5.272714   \n",
       "std    202.21688             177.199484               3.068584   \n",
       "min      1.00000              30.000000               1.000000   \n",
       "25%    175.75000             113.250000               2.500000   \n",
       "50%    350.50000             227.500000               4.900000   \n",
       "75%    525.25000             434.250000               7.400000   \n",
       "max    700.00000             598.000000              12.000000   \n",
       "\n",
       "       BatteryDrain(mAh/day)  NumberOfAppsInstalled  DataUsage(MB/day)  \\\n",
       "count             700.000000             700.000000         700.000000   \n",
       "mean             1525.158571              50.681429         929.742857   \n",
       "std               819.136414              26.943324         640.451729   \n",
       "min               302.000000              10.000000         102.000000   \n",
       "25%               722.250000              26.000000         373.000000   \n",
       "50%              1502.500000              49.000000         823.500000   \n",
       "75%              2229.500000              74.000000        1341.000000   \n",
       "max              2993.000000              99.000000        2497.000000   \n",
       "\n",
       "              Age  UserBehaviorClass  \n",
       "count  700.000000         700.000000  \n",
       "mean    38.482857           2.990000  \n",
       "std     12.012916           1.401476  \n",
       "min     18.000000           1.000000  \n",
       "25%     28.000000           2.000000  \n",
       "50%     38.000000           3.000000  \n",
       "75%     49.000000           4.000000  \n",
       "max     59.000000           5.000000  "
      ]
     },
     "execution_count": 6,
     "metadata": {},
     "output_type": "execute_result"
    }
   ],
   "source": [
    "df.describe()"
   ]
  },
  {
   "cell_type": "code",
   "execution_count": 7,
   "id": "05deecb9",
   "metadata": {
    "execution": {
     "iopub.execute_input": "2024-12-04T04:37:10.826849Z",
     "iopub.status.busy": "2024-12-04T04:37:10.826491Z",
     "iopub.status.idle": "2024-12-04T04:37:10.836849Z",
     "shell.execute_reply": "2024-12-04T04:37:10.835754Z"
    },
    "papermill": {
     "duration": 0.019844,
     "end_time": "2024-12-04T04:37:10.839045",
     "exception": false,
     "start_time": "2024-12-04T04:37:10.819201",
     "status": "completed"
    },
    "tags": []
   },
   "outputs": [
    {
     "data": {
      "text/plain": [
       "UserID                     0\n",
       "DeviceModel                0\n",
       "OperatingSystem            0\n",
       "AppUsageTime(min/day)      0\n",
       "ScreenTime(hours/day)    0.0\n",
       "BatteryDrain(mAh/day)      0\n",
       "NumberOfAppsInstalled      0\n",
       "DataUsage(MB/day)          0\n",
       "Age                        0\n",
       "Gender                     0\n",
       "UserBehaviorClass          0\n",
       "dtype: object"
      ]
     },
     "execution_count": 7,
     "metadata": {},
     "output_type": "execute_result"
    }
   ],
   "source": [
    "check_nan = df[df.isna().any(axis=1)]\n",
    "check_nan.sum()"
   ]
  },
  {
   "cell_type": "code",
   "execution_count": 8,
   "id": "54b73905",
   "metadata": {
    "execution": {
     "iopub.execute_input": "2024-12-04T04:37:10.853097Z",
     "iopub.status.busy": "2024-12-04T04:37:10.852719Z",
     "iopub.status.idle": "2024-12-04T04:37:10.876614Z",
     "shell.execute_reply": "2024-12-04T04:37:10.875278Z"
    },
    "papermill": {
     "duration": 0.033589,
     "end_time": "2024-12-04T04:37:10.878885",
     "exception": false,
     "start_time": "2024-12-04T04:37:10.845296",
     "status": "completed"
    },
    "tags": []
   },
   "outputs": [
    {
     "name": "stdout",
     "output_type": "stream",
     "text": [
      "<class 'pandas.core.frame.DataFrame'>\n",
      "RangeIndex: 700 entries, 0 to 699\n",
      "Data columns (total 11 columns):\n",
      " #   Column                 Non-Null Count  Dtype  \n",
      "---  ------                 --------------  -----  \n",
      " 0   UserID                 700 non-null    int64  \n",
      " 1   DeviceModel            700 non-null    object \n",
      " 2   OperatingSystem        700 non-null    object \n",
      " 3   AppUsageTime(min/day)  700 non-null    int64  \n",
      " 4   ScreenTime(hours/day)  700 non-null    float64\n",
      " 5   BatteryDrain(mAh/day)  700 non-null    int64  \n",
      " 6   NumberOfAppsInstalled  700 non-null    int64  \n",
      " 7   DataUsage(MB/day)      700 non-null    int64  \n",
      " 8   Age                    700 non-null    int64  \n",
      " 9   Gender                 700 non-null    object \n",
      " 10  UserBehaviorClass      700 non-null    int64  \n",
      "dtypes: float64(1), int64(7), object(3)\n",
      "memory usage: 60.3+ KB\n"
     ]
    }
   ],
   "source": [
    "df.info()"
   ]
  },
  {
   "cell_type": "code",
   "execution_count": 9,
   "id": "322f2348",
   "metadata": {
    "execution": {
     "iopub.execute_input": "2024-12-04T04:37:10.894087Z",
     "iopub.status.busy": "2024-12-04T04:37:10.893684Z",
     "iopub.status.idle": "2024-12-04T04:37:10.902470Z",
     "shell.execute_reply": "2024-12-04T04:37:10.901244Z"
    },
    "papermill": {
     "duration": 0.018494,
     "end_time": "2024-12-04T04:37:10.904676",
     "exception": false,
     "start_time": "2024-12-04T04:37:10.886182",
     "status": "completed"
    },
    "tags": []
   },
   "outputs": [
    {
     "data": {
      "text/plain": [
       "UserID                     int64\n",
       "DeviceModel               object\n",
       "OperatingSystem           object\n",
       "AppUsageTime(min/day)      int64\n",
       "ScreenTime(hours/day)    float64\n",
       "BatteryDrain(mAh/day)      int64\n",
       "NumberOfAppsInstalled      int64\n",
       "DataUsage(MB/day)          int64\n",
       "Age                        int64\n",
       "Gender                    object\n",
       "UserBehaviorClass          int64\n",
       "dtype: object"
      ]
     },
     "execution_count": 9,
     "metadata": {},
     "output_type": "execute_result"
    }
   ],
   "source": [
    "df.dtypes"
   ]
  },
  {
   "cell_type": "code",
   "execution_count": 10,
   "id": "5317b98f",
   "metadata": {
    "execution": {
     "iopub.execute_input": "2024-12-04T04:37:10.919965Z",
     "iopub.status.busy": "2024-12-04T04:37:10.919005Z",
     "iopub.status.idle": "2024-12-04T04:37:10.929250Z",
     "shell.execute_reply": "2024-12-04T04:37:10.927926Z"
    },
    "papermill": {
     "duration": 0.020446,
     "end_time": "2024-12-04T04:37:10.931514",
     "exception": false,
     "start_time": "2024-12-04T04:37:10.911068",
     "status": "completed"
    },
    "tags": []
   },
   "outputs": [
    {
     "data": {
      "text/plain": [
       "0"
      ]
     },
     "execution_count": 10,
     "metadata": {},
     "output_type": "execute_result"
    }
   ],
   "source": [
    "duplicates = df.duplicated()\n",
    "duplicates.sum()"
   ]
  },
  {
   "cell_type": "code",
   "execution_count": 11,
   "id": "59afe78b",
   "metadata": {
    "execution": {
     "iopub.execute_input": "2024-12-04T04:37:10.946227Z",
     "iopub.status.busy": "2024-12-04T04:37:10.945763Z",
     "iopub.status.idle": "2024-12-04T04:37:10.959573Z",
     "shell.execute_reply": "2024-12-04T04:37:10.958483Z"
    },
    "papermill": {
     "duration": 0.02379,
     "end_time": "2024-12-04T04:37:10.961744",
     "exception": false,
     "start_time": "2024-12-04T04:37:10.937954",
     "status": "completed"
    },
    "tags": []
   },
   "outputs": [
    {
     "data": {
      "text/html": [
       "<div>\n",
       "<style scoped>\n",
       "    .dataframe tbody tr th:only-of-type {\n",
       "        vertical-align: middle;\n",
       "    }\n",
       "\n",
       "    .dataframe tbody tr th {\n",
       "        vertical-align: top;\n",
       "    }\n",
       "\n",
       "    .dataframe thead th {\n",
       "        text-align: right;\n",
       "    }\n",
       "</style>\n",
       "<table border=\"1\" class=\"dataframe\">\n",
       "  <thead>\n",
       "    <tr style=\"text-align: right;\">\n",
       "      <th></th>\n",
       "      <th>UserID</th>\n",
       "      <th>DeviceModel</th>\n",
       "      <th>OperatingSystem</th>\n",
       "      <th>AppUsageTime(min/day)</th>\n",
       "      <th>ScreenTime(hours/day)</th>\n",
       "      <th>BatteryDrain(mAh/day)</th>\n",
       "      <th>NumberOfAppsInstalled</th>\n",
       "      <th>DataUsage(MB/day)</th>\n",
       "      <th>Age</th>\n",
       "      <th>Gender</th>\n",
       "      <th>UserBehaviorClass</th>\n",
       "    </tr>\n",
       "  </thead>\n",
       "  <tbody>\n",
       "    <tr>\n",
       "      <th>0</th>\n",
       "      <td>1</td>\n",
       "      <td>Google Pixel 5</td>\n",
       "      <td>Android</td>\n",
       "      <td>393</td>\n",
       "      <td>6.4</td>\n",
       "      <td>1872</td>\n",
       "      <td>67</td>\n",
       "      <td>1122</td>\n",
       "      <td>40</td>\n",
       "      <td>Male</td>\n",
       "      <td>4</td>\n",
       "    </tr>\n",
       "    <tr>\n",
       "      <th>1</th>\n",
       "      <td>2</td>\n",
       "      <td>OnePlus 9</td>\n",
       "      <td>Android</td>\n",
       "      <td>268</td>\n",
       "      <td>4.7</td>\n",
       "      <td>1331</td>\n",
       "      <td>42</td>\n",
       "      <td>944</td>\n",
       "      <td>47</td>\n",
       "      <td>Female</td>\n",
       "      <td>3</td>\n",
       "    </tr>\n",
       "    <tr>\n",
       "      <th>2</th>\n",
       "      <td>3</td>\n",
       "      <td>Xiaomi Mi 11</td>\n",
       "      <td>Android</td>\n",
       "      <td>154</td>\n",
       "      <td>4.0</td>\n",
       "      <td>761</td>\n",
       "      <td>32</td>\n",
       "      <td>322</td>\n",
       "      <td>42</td>\n",
       "      <td>Male</td>\n",
       "      <td>2</td>\n",
       "    </tr>\n",
       "    <tr>\n",
       "      <th>3</th>\n",
       "      <td>4</td>\n",
       "      <td>Google Pixel 5</td>\n",
       "      <td>Android</td>\n",
       "      <td>239</td>\n",
       "      <td>4.8</td>\n",
       "      <td>1676</td>\n",
       "      <td>56</td>\n",
       "      <td>871</td>\n",
       "      <td>20</td>\n",
       "      <td>Male</td>\n",
       "      <td>3</td>\n",
       "    </tr>\n",
       "    <tr>\n",
       "      <th>4</th>\n",
       "      <td>5</td>\n",
       "      <td>iPhone 12</td>\n",
       "      <td>iOS</td>\n",
       "      <td>187</td>\n",
       "      <td>4.3</td>\n",
       "      <td>1367</td>\n",
       "      <td>58</td>\n",
       "      <td>988</td>\n",
       "      <td>31</td>\n",
       "      <td>Female</td>\n",
       "      <td>3</td>\n",
       "    </tr>\n",
       "  </tbody>\n",
       "</table>\n",
       "</div>"
      ],
      "text/plain": [
       "   UserID     DeviceModel OperatingSystem  AppUsageTime(min/day)  \\\n",
       "0       1  Google Pixel 5         Android                    393   \n",
       "1       2       OnePlus 9         Android                    268   \n",
       "2       3    Xiaomi Mi 11         Android                    154   \n",
       "3       4  Google Pixel 5         Android                    239   \n",
       "4       5       iPhone 12             iOS                    187   \n",
       "\n",
       "   ScreenTime(hours/day)  BatteryDrain(mAh/day)  NumberOfAppsInstalled  \\\n",
       "0                    6.4                   1872                     67   \n",
       "1                    4.7                   1331                     42   \n",
       "2                    4.0                    761                     32   \n",
       "3                    4.8                   1676                     56   \n",
       "4                    4.3                   1367                     58   \n",
       "\n",
       "   DataUsage(MB/day)  Age  Gender  UserBehaviorClass  \n",
       "0               1122   40    Male                  4  \n",
       "1                944   47  Female                  3  \n",
       "2                322   42    Male                  2  \n",
       "3                871   20    Male                  3  \n",
       "4                988   31  Female                  3  "
      ]
     },
     "execution_count": 11,
     "metadata": {},
     "output_type": "execute_result"
    }
   ],
   "source": [
    "df.head()"
   ]
  },
  {
   "attachments": {},
   "cell_type": "markdown",
   "id": "254de950",
   "metadata": {
    "papermill": {
     "duration": 0.006338,
     "end_time": "2024-12-04T04:37:10.974901",
     "exception": false,
     "start_time": "2024-12-04T04:37:10.968563",
     "status": "completed"
    },
    "tags": []
   },
   "source": [
    "## Data visualization "
   ]
  },
  {
   "cell_type": "code",
   "execution_count": 12,
   "id": "b4304df6",
   "metadata": {
    "execution": {
     "iopub.execute_input": "2024-12-04T04:37:10.989652Z",
     "iopub.status.busy": "2024-12-04T04:37:10.989288Z",
     "iopub.status.idle": "2024-12-04T04:37:10.996900Z",
     "shell.execute_reply": "2024-12-04T04:37:10.995678Z"
    },
    "papermill": {
     "duration": 0.018013,
     "end_time": "2024-12-04T04:37:10.999398",
     "exception": false,
     "start_time": "2024-12-04T04:37:10.981385",
     "status": "completed"
    },
    "tags": []
   },
   "outputs": [
    {
     "data": {
      "text/plain": [
       "array(['Google Pixel 5', 'OnePlus 9', 'Xiaomi Mi 11', 'iPhone 12',\n",
       "       'Samsung Galaxy S21'], dtype=object)"
      ]
     },
     "execution_count": 12,
     "metadata": {},
     "output_type": "execute_result"
    }
   ],
   "source": [
    "df.DeviceModel.unique()"
   ]
  },
  {
   "cell_type": "code",
   "execution_count": 13,
   "id": "b89c849d",
   "metadata": {
    "execution": {
     "iopub.execute_input": "2024-12-04T04:37:11.015206Z",
     "iopub.status.busy": "2024-12-04T04:37:11.014766Z",
     "iopub.status.idle": "2024-12-04T04:37:11.023307Z",
     "shell.execute_reply": "2024-12-04T04:37:11.022254Z"
    },
    "papermill": {
     "duration": 0.01937,
     "end_time": "2024-12-04T04:37:11.025569",
     "exception": false,
     "start_time": "2024-12-04T04:37:11.006199",
     "status": "completed"
    },
    "tags": []
   },
   "outputs": [
    {
     "data": {
      "text/plain": [
       "DeviceModel\n",
       "Xiaomi Mi 11          146\n",
       "iPhone 12             146\n",
       "Google Pixel 5        142\n",
       "OnePlus 9             133\n",
       "Samsung Galaxy S21    133\n",
       "Name: count, dtype: int64"
      ]
     },
     "execution_count": 13,
     "metadata": {},
     "output_type": "execute_result"
    }
   ],
   "source": [
    "device_model = df.DeviceModel.value_counts()\n",
    "device_model"
   ]
  },
  {
   "cell_type": "code",
   "execution_count": 14,
   "id": "56b884d4",
   "metadata": {
    "execution": {
     "iopub.execute_input": "2024-12-04T04:37:11.042821Z",
     "iopub.status.busy": "2024-12-04T04:37:11.042438Z",
     "iopub.status.idle": "2024-12-04T04:37:11.355675Z",
     "shell.execute_reply": "2024-12-04T04:37:11.354556Z"
    },
    "papermill": {
     "duration": 0.323983,
     "end_time": "2024-12-04T04:37:11.358045",
     "exception": false,
     "start_time": "2024-12-04T04:37:11.034062",
     "status": "completed"
    },
    "tags": []
   },
   "outputs": [
    {
     "data": {
      "text/plain": [
       "(array([0, 1, 2, 3, 4]),\n",
       " [Text(0, 0, 'Xiaomi Mi 11'),\n",
       "  Text(1, 0, 'iPhone 12'),\n",
       "  Text(2, 0, 'Google Pixel 5'),\n",
       "  Text(3, 0, 'OnePlus 9'),\n",
       "  Text(4, 0, 'Samsung Galaxy S21')])"
      ]
     },
     "execution_count": 14,
     "metadata": {},
     "output_type": "execute_result"
    },
    {
     "data": {
      "image/png": "[encoded data removed]",
      "text/plain": [
       "<Figure size 500x400 with 1 Axes>"
      ]
     },
     "metadata": {},
     "output_type": "display_data"
    }
   ],
   "source": [
    "plt.figure(figsize=(5,4))\n",
    "plt.title('Device Models in the dataset')\n",
    "plt.xlabel('Device models')\n",
    "plt.ylabel('Users')\n",
    "sns.barplot(x=device_model.index, y=device_model.values)\n",
    "plt.grid(alpha=0.5)\n",
    "plt.xticks(rotation=15)\n"
   ]
  },
  {
   "cell_type": "code",
   "execution_count": 15,
   "id": "d7da8ef4",
   "metadata": {
    "execution": {
     "iopub.execute_input": "2024-12-04T04:37:11.374910Z",
     "iopub.status.busy": "2024-12-04T04:37:11.374548Z",
     "iopub.status.idle": "2024-12-04T04:37:11.383169Z",
     "shell.execute_reply": "2024-12-04T04:37:11.382202Z"
    },
    "papermill": {
     "duration": 0.019471,
     "end_time": "2024-12-04T04:37:11.385131",
     "exception": false,
     "start_time": "2024-12-04T04:37:11.365660",
     "status": "completed"
    },
    "tags": []
   },
   "outputs": [
    {
     "data": {
      "text/plain": [
       "OperatingSystem\n",
       "Android    554\n",
       "iOS        146\n",
       "Name: count, dtype: int64"
      ]
     },
     "execution_count": 15,
     "metadata": {},
     "output_type": "execute_result"
    }
   ],
   "source": [
    "os = df.OperatingSystem.value_counts()\n",
    "os"
   ]
  },
  {
   "cell_type": "code",
   "execution_count": 16,
   "id": "dcb32481",
   "metadata": {
    "execution": {
     "iopub.execute_input": "2024-12-04T04:37:11.401998Z",
     "iopub.status.busy": "2024-12-04T04:37:11.401509Z",
     "iopub.status.idle": "2024-12-04T04:37:11.621872Z",
     "shell.execute_reply": "2024-12-04T04:37:11.620608Z"
    },
    "papermill": {
     "duration": 0.231405,
     "end_time": "2024-12-04T04:37:11.624104",
     "exception": false,
     "start_time": "2024-12-04T04:37:11.392699",
     "status": "completed"
    },
    "tags": []
   },
   "outputs": [
    {
     "data": {
      "text/plain": [
       "<Axes: title={'center': 'Operating systems used'}, xlabel='OperatingSystem', ylabel='Users'>"
      ]
     },
     "execution_count": 16,
     "metadata": {},
     "output_type": "execute_result"
    },
    {
     "data": {
      "image/png": "[encoded data removed]",
      "text/plain": [
       "<Figure size 200x300 with 1 Axes>"
      ]
     },
     "metadata": {},
     "output_type": "display_data"
    }
   ],
   "source": [
    "plt.figure(figsize=(2,3))\n",
    "plt.title('Operating systems used')\n",
    "plt.xlabel('Operating systems')\n",
    "plt.ylabel('Users')\n",
    "sns.barplot(x=os.index, y=os.values)\n"
   ]
  },
  {
   "cell_type": "code",
   "execution_count": 17,
   "id": "52231cf3",
   "metadata": {
    "execution": {
     "iopub.execute_input": "2024-12-04T04:37:11.642313Z",
     "iopub.status.busy": "2024-12-04T04:37:11.641136Z",
     "iopub.status.idle": "2024-12-04T04:37:11.652288Z",
     "shell.execute_reply": "2024-12-04T04:37:11.651228Z"
    },
    "papermill": {
     "duration": 0.022188,
     "end_time": "2024-12-04T04:37:11.654277",
     "exception": false,
     "start_time": "2024-12-04T04:37:11.632089",
     "status": "completed"
    },
    "tags": []
   },
   "outputs": [
    {
     "data": {
      "text/plain": [
       "DeviceModel\n",
       "Google Pixel 5        267.788732\n",
       "OnePlus 9             270.383459\n",
       "Samsung Galaxy S21    266.421053\n",
       "Xiaomi Mi 11          268.452055\n",
       "iPhone 12             282.020548\n",
       "Name: AppUsageTime(min/day), dtype: float64"
      ]
     },
     "execution_count": 17,
     "metadata": {},
     "output_type": "execute_result"
    }
   ],
   "source": [
    "avg_time = df.groupby('DeviceModel')['AppUsageTime(min/day)'].mean()\n",
    "avg_time"
   ]
  },
  {
   "cell_type": "code",
   "execution_count": 18,
   "id": "4fd84313",
   "metadata": {
    "execution": {
     "iopub.execute_input": "2024-12-04T04:37:11.672069Z",
     "iopub.status.busy": "2024-12-04T04:37:11.671251Z",
     "iopub.status.idle": "2024-12-04T04:37:11.912655Z",
     "shell.execute_reply": "2024-12-04T04:37:11.911451Z"
    },
    "papermill": {
     "duration": 0.252898,
     "end_time": "2024-12-04T04:37:11.915095",
     "exception": false,
     "start_time": "2024-12-04T04:37:11.662197",
     "status": "completed"
    },
    "tags": []
   },
   "outputs": [
    {
     "data": {
      "text/plain": [
       "<Axes: title={'center': 'Average time users spend'}, xlabel='Time', ylabel='DeviceModel'>"
      ]
     },
     "execution_count": 18,
     "metadata": {},
     "output_type": "execute_result"
    },
    {
     "data": {
      "image/png": "[encoded data removed]",
      "text/plain": [
       "<Figure size 500x400 with 1 Axes>"
      ]
     },
     "metadata": {},
     "output_type": "display_data"
    }
   ],
   "source": [
    "plt.figure(figsize=(5,4))\n",
    "plt.title('Average time users spend')\n",
    "plt.xlabel('Time')\n",
    "sns.barplot(y=avg_time.index, x=avg_time.values)"
   ]
  },
  {
   "cell_type": "code",
   "execution_count": 19,
   "id": "55af1f07",
   "metadata": {
    "execution": {
     "iopub.execute_input": "2024-12-04T04:37:11.934346Z",
     "iopub.status.busy": "2024-12-04T04:37:11.933936Z",
     "iopub.status.idle": "2024-12-04T04:37:11.943348Z",
     "shell.execute_reply": "2024-12-04T04:37:11.942216Z"
    },
    "papermill": {
     "duration": 0.021564,
     "end_time": "2024-12-04T04:37:11.945487",
     "exception": false,
     "start_time": "2024-12-04T04:37:11.923923",
     "status": "completed"
    },
    "tags": []
   },
   "outputs": [
    {
     "data": {
      "text/plain": [
       "DeviceModel\n",
       "Google Pixel 5        1475.676056\n",
       "OnePlus 9             1523.849624\n",
       "Samsung Galaxy S21    1504.571429\n",
       "Xiaomi Mi 11          1528.876712\n",
       "iPhone 12             1589.513699\n",
       "Name: BatteryDrain(mAh/day), dtype: float64"
      ]
     },
     "execution_count": 19,
     "metadata": {},
     "output_type": "execute_result"
    }
   ],
   "source": [
    "battery_drain = df.groupby('DeviceModel')['BatteryDrain(mAh/day)'].mean()\n",
    "battery_drain"
   ]
  },
  {
   "cell_type": "code",
   "execution_count": 20,
   "id": "63d07ab5",
   "metadata": {
    "execution": {
     "iopub.execute_input": "2024-12-04T04:37:11.965318Z",
     "iopub.status.busy": "2024-12-04T04:37:11.964118Z",
     "iopub.status.idle": "2024-12-04T04:37:12.202832Z",
     "shell.execute_reply": "2024-12-04T04:37:12.201677Z"
    },
    "papermill": {
     "duration": 0.250858,
     "end_time": "2024-12-04T04:37:12.205110",
     "exception": false,
     "start_time": "2024-12-04T04:37:11.954252",
     "status": "completed"
    },
    "tags": []
   },
   "outputs": [
    {
     "data": {
      "text/plain": [
       "<Axes: xlabel='Battery drain', ylabel='DeviceModel'>"
      ]
     },
     "execution_count": 20,
     "metadata": {},
     "output_type": "execute_result"
    },
    {
     "data": {
      "image/png": "[encoded data removed]",
      "text/plain": [
       "<Figure size 500x400 with 1 Axes>"
      ]
     },
     "metadata": {},
     "output_type": "display_data"
    }
   ],
   "source": [
    "plt.figure(figsize=(5,4))\n",
    "plt.title('')\n",
    "plt.xlabel('Battery drain')\n",
    "sns.barplot(y=battery_drain.index, x=battery_drain.values)"
   ]
  },
  {
   "cell_type": "code",
   "execution_count": 21,
   "id": "899128f9",
   "metadata": {
    "execution": {
     "iopub.execute_input": "2024-12-04T04:37:12.225238Z",
     "iopub.status.busy": "2024-12-04T04:37:12.224809Z",
     "iopub.status.idle": "2024-12-04T04:37:12.230736Z",
     "shell.execute_reply": "2024-12-04T04:37:12.229667Z"
    },
    "papermill": {
     "duration": 0.018456,
     "end_time": "2024-12-04T04:37:12.232855",
     "exception": false,
     "start_time": "2024-12-04T04:37:12.214399",
     "status": "completed"
    },
    "tags": []
   },
   "outputs": [],
   "source": [
    "df['Age'] = pd.to_numeric(df['Age'], errors='coerce')"
   ]
  },
  {
   "cell_type": "code",
   "execution_count": 22,
   "id": "ffa54441",
   "metadata": {
    "execution": {
     "iopub.execute_input": "2024-12-04T04:37:12.252985Z",
     "iopub.status.busy": "2024-12-04T04:37:12.252574Z",
     "iopub.status.idle": "2024-12-04T04:37:12.259294Z",
     "shell.execute_reply": "2024-12-04T04:37:12.258040Z"
    },
    "papermill": {
     "duration": 0.019458,
     "end_time": "2024-12-04T04:37:12.261671",
     "exception": false,
     "start_time": "2024-12-04T04:37:12.242213",
     "status": "completed"
    },
    "tags": []
   },
   "outputs": [
    {
     "name": "stdout",
     "output_type": "stream",
     "text": [
      "0\n"
     ]
    }
   ],
   "source": [
    "print(df['Age'].isna().sum())\n"
   ]
  },
  {
   "cell_type": "code",
   "execution_count": 23,
   "id": "2599d7ab",
   "metadata": {
    "execution": {
     "iopub.execute_input": "2024-12-04T04:37:12.282060Z",
     "iopub.status.busy": "2024-12-04T04:37:12.281701Z",
     "iopub.status.idle": "2024-12-04T04:37:12.297859Z",
     "shell.execute_reply": "2024-12-04T04:37:12.296703Z"
    },
    "papermill": {
     "duration": 0.028772,
     "end_time": "2024-12-04T04:37:12.300080",
     "exception": false,
     "start_time": "2024-12-04T04:37:12.271308",
     "status": "completed"
    },
    "tags": []
   },
   "outputs": [
    {
     "name": "stderr",
     "output_type": "stream",
     "text": [
      "/tmp/ipykernel_17/300567428.py:5: FutureWarning: The default of observed=False is deprecated and will be changed to True in a future version of pandas. Pass observed=False to retain current behavior or observed=True to adopt the future default and silence this warning.\n",
      "  age_group = df.groupby('AgeGroup')['ScreenTime(hours/day)'].mean()\n"
     ]
    },
    {
     "data": {
      "text/plain": [
       "AgeGroup\n",
       "0-20     5.292500\n",
       "20-30    5.111798\n",
       "30-40    5.350595\n",
       "40-50    5.252258\n",
       "50-60    5.385535\n",
       "Name: ScreenTime(hours/day), dtype: float64"
      ]
     },
     "execution_count": 23,
     "metadata": {},
     "output_type": "execute_result"
    }
   ],
   "source": [
    "bins = [0, 20, 30, 40, 50, 60]\n",
    "labels = ['0-20', '20-30', '30-40', '40-50', '50-60']\n",
    "df['AgeGroup'] = pd.cut(df['Age'], bins=bins, labels=labels)\n",
    "\n",
    "age_group = df.groupby('AgeGroup')['ScreenTime(hours/day)'].mean()\n",
    "age_group"
   ]
  },
  {
   "cell_type": "code",
   "execution_count": 24,
   "id": "7432b2ba",
   "metadata": {
    "execution": {
     "iopub.execute_input": "2024-12-04T04:37:12.320596Z",
     "iopub.status.busy": "2024-12-04T04:37:12.320198Z",
     "iopub.status.idle": "2024-12-04T04:37:12.539745Z",
     "shell.execute_reply": "2024-12-04T04:37:12.538628Z"
    },
    "papermill": {
     "duration": 0.232369,
     "end_time": "2024-12-04T04:37:12.541928",
     "exception": false,
     "start_time": "2024-12-04T04:37:12.309559",
     "status": "completed"
    },
    "tags": []
   },
   "outputs": [
    {
     "name": "stderr",
     "output_type": "stream",
     "text": [
      "/opt/conda/lib/python3.10/site-packages/seaborn/categorical.py:641: FutureWarning: The default of observed=False is deprecated and will be changed to True in a future version of pandas. Pass observed=False to retain current behavior or observed=True to adopt the future default and silence this warning.\n",
      "  grouped_vals = vals.groupby(grouper)\n"
     ]
    },
    {
     "data": {
      "text/plain": [
       "<Axes: ylabel='AgeGroup'>"
      ]
     },
     "execution_count": 24,
     "metadata": {},
     "output_type": "execute_result"
    },
    {
     "data": {
      "image/png": "[encoded data removed]",
      "text/plain": [
       "<Figure size 900x500 with 1 Axes>"
      ]
     },
     "metadata": {},
     "output_type": "display_data"
    }
   ],
   "source": [
    "plt.figure(figsize=(9,5))\n",
    "sns.barplot(y=age_group.index , x=age_group.values, data=df)"
   ]
  },
  {
   "cell_type": "code",
   "execution_count": null,
   "id": "1d6522bb",
   "metadata": {
    "papermill": {
     "duration": 0.009672,
     "end_time": "2024-12-04T04:37:12.561706",
     "exception": false,
     "start_time": "2024-12-04T04:37:12.552034",
     "status": "completed"
    },
    "tags": []
   },
   "outputs": [],
   "source": []
  }
 ],
 "metadata": {
  "kaggle": {
   "accelerator": "none",
   "dataSources": [
    {
     "datasetId": 5784553,
     "sourceId": 9504237,
     "sourceType": "datasetVersion"
    }
   ],
   "dockerImageVersionId": 30804,
   "isGpuEnabled": false,
   "isInternetEnabled": false,
   "language": "python",
   "sourceType": "notebook"
  },
  "kernelspec": {
   "display_name": "Python 3",
   "language": "python",
   "name": "python3"
  },
  "language_info": {
   "codemirror_mode": {
    "name": "ipython",
    "version": 3
   },
   "file_extension": ".py",
   "mimetype": "text/x-python",
   "name": "python",
   "nbconvert_exporter": "python",
   "pygments_lexer": "ipython3",
   "version": "3.10.14"
  },
  "papermill": {
   "default_parameters": {},
   "duration": 7.854266,
   "end_time": "2024-12-04T04:37:13.193459",
   "environment_variables": {},
   "exception": null,
   "input_path": "__notebook__.ipynb",
   "output_path": "__notebook__.ipynb",
   "parameters": {},
   "start_time": "2024-12-04T04:37:05.339193",
   "version": "2.6.0"
  }
 },
 "nbformat": 4,
 "nbformat_minor": 5
}
